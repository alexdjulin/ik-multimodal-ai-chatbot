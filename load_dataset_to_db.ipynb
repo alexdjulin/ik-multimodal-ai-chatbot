{
 "cells": [
  {
   "cell_type": "markdown",
   "metadata": {},
   "source": [
    "# Load dataset to database\n",
    "\n",
    "In this notebook, we are loading the contents of this kaggle Books Dataset into our chromaDB database, so the agent has some ground knowledge about a wide range of books.\n",
    "\n",
    "[Books Dataset](https://www.kaggle.com/datasets/elvinrustam/books-dataset/)  \n",
    "\n",
    "**Overview:**  \n",
    "This dataset comprises information scraped from wonderbk.com, a popular online bookstore. The dataset contains details of 103,063 books, with key attributes such as title, authors, description, category, publisher, starting price, and publish date.\n",
    "\n",
    "**Columns:**  \n",
    "- Title: The title of the book.\n",
    "- Authors: The authors of the book.\n",
    "- Description: A brief description of the book.\n",
    "- Category: The category or genre to which the book belongs.\n",
    "- Publisher: The publishing house responsible for the book.\n",
    "- Publish Date: The month in which the book was published.\n",
    "- Price: The initial price of the book."
   ]
  },
  {
   "cell_type": "markdown",
   "metadata": {},
   "source": [
    "## Load and clean dataset"
   ]
  },
  {
   "cell_type": "code",
   "execution_count": null,
   "metadata": {},
   "outputs": [
    {
     "name": "stdout",
     "output_type": "stream",
     "text": [
      "<class 'pandas.core.frame.DataFrame'>\n",
      "RangeIndex: 103082 entries, 0 to 103081\n",
      "Data columns (total 7 columns):\n",
      " #   Column        Non-Null Count   Dtype \n",
      "---  ------        --------------   ----- \n",
      " 0   Title         103082 non-null  object\n",
      " 1   Authors       103082 non-null  object\n",
      " 2   Description   70213 non-null   object\n",
      " 3   Category      76912 non-null   object\n",
      " 4   Publisher     103074 non-null  object\n",
      " 5   Publish Date  103082 non-null  object\n",
      " 6   Price         103082 non-null  object\n",
      "dtypes: object(7)\n",
      "memory usage: 5.5+ MB\n",
      "None\n"
     ]
    },
    {
     "data": {
      "text/html": [
       "<div>\n",
       "<style scoped>\n",
       "    .dataframe tbody tr th:only-of-type {\n",
       "        vertical-align: middle;\n",
       "    }\n",
       "\n",
       "    .dataframe tbody tr th {\n",
       "        vertical-align: top;\n",
       "    }\n",
       "\n",
       "    .dataframe thead th {\n",
       "        text-align: right;\n",
       "    }\n",
       "</style>\n",
       "<table border=\"1\" class=\"dataframe\">\n",
       "  <thead>\n",
       "    <tr style=\"text-align: right;\">\n",
       "      <th></th>\n",
       "      <th>Title</th>\n",
       "      <th>Authors</th>\n",
       "      <th>Description</th>\n",
       "      <th>Category</th>\n",
       "      <th>Publisher</th>\n",
       "      <th>Publish Date</th>\n",
       "      <th>Price</th>\n",
       "    </tr>\n",
       "  </thead>\n",
       "  <tbody>\n",
       "    <tr>\n",
       "      <th>0</th>\n",
       "      <td>Goat Brothers</td>\n",
       "      <td>By Colton, Larry</td>\n",
       "      <td>NaN</td>\n",
       "      <td>History , General</td>\n",
       "      <td>Doubleday</td>\n",
       "      <td>Friday, January 1, 1993</td>\n",
       "      <td>Price Starting at $8.79</td>\n",
       "    </tr>\n",
       "    <tr>\n",
       "      <th>1</th>\n",
       "      <td>The Missing Person</td>\n",
       "      <td>By Grumbach, Doris</td>\n",
       "      <td>NaN</td>\n",
       "      <td>Fiction , General</td>\n",
       "      <td>Putnam Pub Group</td>\n",
       "      <td>Sunday, March 1, 1981</td>\n",
       "      <td>Price Starting at $4.99</td>\n",
       "    </tr>\n",
       "    <tr>\n",
       "      <th>2</th>\n",
       "      <td>Don't Eat Your Heart Out Cookbook</td>\n",
       "      <td>By Piscatella, Joseph C.</td>\n",
       "      <td>NaN</td>\n",
       "      <td>Cooking , Reference</td>\n",
       "      <td>Workman Pub Co</td>\n",
       "      <td>Thursday, September 1, 1983</td>\n",
       "      <td>Price Starting at $4.99</td>\n",
       "    </tr>\n",
       "    <tr>\n",
       "      <th>3</th>\n",
       "      <td>When Your Corporate Umbrella Begins to Leak: A...</td>\n",
       "      <td>By Davis, Paul D.</td>\n",
       "      <td>NaN</td>\n",
       "      <td>NaN</td>\n",
       "      <td>Natl Pr Books</td>\n",
       "      <td>Monday, April 1, 1991</td>\n",
       "      <td>Price Starting at $4.99</td>\n",
       "    </tr>\n",
       "    <tr>\n",
       "      <th>4</th>\n",
       "      <td>Amy Spangler's Breastfeeding : A Parent's Guide</td>\n",
       "      <td>By Spangler, Amy</td>\n",
       "      <td>NaN</td>\n",
       "      <td>NaN</td>\n",
       "      <td>Amy Spangler</td>\n",
       "      <td>Saturday, February 1, 1997</td>\n",
       "      <td>Price Starting at $5.32</td>\n",
       "    </tr>\n",
       "  </tbody>\n",
       "</table>\n",
       "</div>"
      ],
      "text/plain": [
       "                                               Title  \\\n",
       "0                                      Goat Brothers   \n",
       "1                                 The Missing Person   \n",
       "2                  Don't Eat Your Heart Out Cookbook   \n",
       "3  When Your Corporate Umbrella Begins to Leak: A...   \n",
       "4    Amy Spangler's Breastfeeding : A Parent's Guide   \n",
       "\n",
       "                    Authors Description              Category  \\\n",
       "0          By Colton, Larry         NaN     History , General   \n",
       "1        By Grumbach, Doris         NaN     Fiction , General   \n",
       "2  By Piscatella, Joseph C.         NaN   Cooking , Reference   \n",
       "3         By Davis, Paul D.         NaN                   NaN   \n",
       "4          By Spangler, Amy         NaN                   NaN   \n",
       "\n",
       "          Publisher                 Publish Date                    Price  \n",
       "0         Doubleday      Friday, January 1, 1993  Price Starting at $8.79  \n",
       "1  Putnam Pub Group        Sunday, March 1, 1981  Price Starting at $4.99  \n",
       "2    Workman Pub Co  Thursday, September 1, 1983  Price Starting at $4.99  \n",
       "3     Natl Pr Books        Monday, April 1, 1991  Price Starting at $4.99  \n",
       "4      Amy Spangler   Saturday, February 1, 1997  Price Starting at $5.32  "
      ]
     },
     "execution_count": 38,
     "metadata": {},
     "output_type": "execute_result"
    }
   ],
   "source": [
    "import pandas as pd\n",
    "\n",
    "books_df = pd.read_csv(\"datasets/BooksDataset.csv\")\n",
    "print(books_df.info())\n",
    "books_df.head()\n"
   ]
  },
  {
   "cell_type": "code",
   "execution_count": 39,
   "metadata": {},
   "outputs": [],
   "source": [
    "# get rid of columns that are not needed\n",
    "interesting_columns = ['Title', 'Authors', 'Description', 'Category', 'Publish Date']\n",
    "books_df = books_df[interesting_columns]"
   ]
  },
  {
   "cell_type": "code",
   "execution_count": 40,
   "metadata": {},
   "outputs": [
    {
     "data": {
      "text/plain": [
       "Title               0\n",
       "Authors             0\n",
       "Description     32869\n",
       "Category        26170\n",
       "Publish Date        0\n",
       "dtype: int64"
      ]
     },
     "execution_count": 40,
     "metadata": {},
     "output_type": "execute_result"
    }
   ],
   "source": [
    "# check for nan values\n",
    "books_df.isna().sum()"
   ]
  },
  {
   "cell_type": "code",
   "execution_count": 41,
   "metadata": {},
   "outputs": [
    {
     "data": {
      "text/plain": [
       "Title              0\n",
       "Authors            0\n",
       "Description        0\n",
       "Category        4908\n",
       "Publish Date       0\n",
       "dtype: int64"
      ]
     },
     "execution_count": 41,
     "metadata": {},
     "output_type": "execute_result"
    }
   ],
   "source": [
    "# let's get rid of books without a description that are not very helpful\n",
    "# empty categories are not important\n",
    "books_df = books_df.dropna(subset=[\"Description\"])\n",
    "books_df.isna().sum()"
   ]
  },
  {
   "cell_type": "code",
   "execution_count": 43,
   "metadata": {},
   "outputs": [
    {
     "name": "stdout",
     "output_type": "stream",
     "text": [
      "<class 'pandas.core.frame.DataFrame'>\n",
      "RangeIndex: 70213 entries, 0 to 70212\n",
      "Data columns (total 5 columns):\n",
      " #   Column        Non-Null Count  Dtype \n",
      "---  ------        --------------  ----- \n",
      " 0   Title         70213 non-null  object\n",
      " 1   Authors       70213 non-null  object\n",
      " 2   Description   70213 non-null  object\n",
      " 3   Category      65305 non-null  object\n",
      " 4   Publish Date  70213 non-null  object\n",
      "dtypes: object(5)\n",
      "memory usage: 2.7+ MB\n",
      "None\n"
     ]
    },
    {
     "data": {
      "text/html": [
       "<div>\n",
       "<style scoped>\n",
       "    .dataframe tbody tr th:only-of-type {\n",
       "        vertical-align: middle;\n",
       "    }\n",
       "\n",
       "    .dataframe tbody tr th {\n",
       "        vertical-align: top;\n",
       "    }\n",
       "\n",
       "    .dataframe thead th {\n",
       "        text-align: right;\n",
       "    }\n",
       "</style>\n",
       "<table border=\"1\" class=\"dataframe\">\n",
       "  <thead>\n",
       "    <tr style=\"text-align: right;\">\n",
       "      <th></th>\n",
       "      <th>Title</th>\n",
       "      <th>Authors</th>\n",
       "      <th>Description</th>\n",
       "      <th>Category</th>\n",
       "      <th>Publish Date</th>\n",
       "    </tr>\n",
       "  </thead>\n",
       "  <tbody>\n",
       "    <tr>\n",
       "      <th>0</th>\n",
       "      <td>Journey Through Heartsongs</td>\n",
       "      <td>By Stepanek, Mattie J. T.</td>\n",
       "      <td>Collects poems written by the eleven-year-old ...</td>\n",
       "      <td>Poetry , General</td>\n",
       "      <td>Saturday, September 1, 2001</td>\n",
       "    </tr>\n",
       "    <tr>\n",
       "      <th>1</th>\n",
       "      <td>In Search of Melancholy Baby</td>\n",
       "      <td>By Aksyonov, Vassily, Heim, Michael Henry, and...</td>\n",
       "      <td>The Russian author offers an affectionate chro...</td>\n",
       "      <td>Biography &amp; Autobiography , General</td>\n",
       "      <td>Monday, June 1, 1987</td>\n",
       "    </tr>\n",
       "    <tr>\n",
       "      <th>2</th>\n",
       "      <td>The Dieter's Guide to Weight Loss During Sex</td>\n",
       "      <td>By Smith, Richard</td>\n",
       "      <td>A humor classic, this tongue-in-cheek diet pla...</td>\n",
       "      <td>Health &amp; Fitness , Diet &amp; Nutrition , Diets</td>\n",
       "      <td>Sunday, January 1, 1978</td>\n",
       "    </tr>\n",
       "    <tr>\n",
       "      <th>3</th>\n",
       "      <td>Germs : Biological Weapons and America's Secre...</td>\n",
       "      <td>By Miller, Judith, Engelberg, Stephen, and Bro...</td>\n",
       "      <td>Deadly germs sprayed in shopping malls, bomb-l...</td>\n",
       "      <td>Technology &amp; Engineering , Military Science</td>\n",
       "      <td>Monday, October 1, 2001</td>\n",
       "    </tr>\n",
       "    <tr>\n",
       "      <th>4</th>\n",
       "      <td>The Good Book: Reading the Bible with Mind and...</td>\n",
       "      <td>By Gomes, Peter J.</td>\n",
       "      <td>\"The Bible and the social and moral consequenc...</td>\n",
       "      <td>Religion , Biblical Biography , General</td>\n",
       "      <td>Friday, May 1, 1998</td>\n",
       "    </tr>\n",
       "  </tbody>\n",
       "</table>\n",
       "</div>"
      ],
      "text/plain": [
       "                                               Title  \\\n",
       "0                         Journey Through Heartsongs   \n",
       "1                       In Search of Melancholy Baby   \n",
       "2       The Dieter's Guide to Weight Loss During Sex   \n",
       "3  Germs : Biological Weapons and America's Secre...   \n",
       "4  The Good Book: Reading the Bible with Mind and...   \n",
       "\n",
       "                                             Authors  \\\n",
       "0                          By Stepanek, Mattie J. T.   \n",
       "1  By Aksyonov, Vassily, Heim, Michael Henry, and...   \n",
       "2                                  By Smith, Richard   \n",
       "3  By Miller, Judith, Engelberg, Stephen, and Bro...   \n",
       "4                                 By Gomes, Peter J.   \n",
       "\n",
       "                                         Description  \\\n",
       "0  Collects poems written by the eleven-year-old ...   \n",
       "1  The Russian author offers an affectionate chro...   \n",
       "2  A humor classic, this tongue-in-cheek diet pla...   \n",
       "3  Deadly germs sprayed in shopping malls, bomb-l...   \n",
       "4  \"The Bible and the social and moral consequenc...   \n",
       "\n",
       "                                       Category                 Publish Date  \n",
       "0                              Poetry , General  Saturday, September 1, 2001  \n",
       "1           Biography & Autobiography , General         Monday, June 1, 1987  \n",
       "2   Health & Fitness , Diet & Nutrition , Diets      Sunday, January 1, 1978  \n",
       "3   Technology & Engineering , Military Science      Monday, October 1, 2001  \n",
       "4       Religion , Biblical Biography , General          Friday, May 1, 1998  "
      ]
     },
     "execution_count": 43,
     "metadata": {},
     "output_type": "execute_result"
    }
   ],
   "source": [
    "# reset index\n",
    "books_df = books_df.reset_index(drop=True)\n",
    "print(books_df.info())\n",
    "books_df.head()"
   ]
  },
  {
   "cell_type": "code",
   "execution_count": null,
   "metadata": {},
   "outputs": [],
   "source": [
    "# save the cleaned data\n",
    "books_df.to_csv(\"datasets/BooksDatasetClean.csv\", index=False)"
   ]
  },
  {
   "cell_type": "markdown",
   "metadata": {},
   "source": [
    "## Store to database"
   ]
  },
  {
   "cell_type": "code",
   "execution_count": 59,
   "metadata": {},
   "outputs": [
    {
     "name": "stdout",
     "output_type": "stream",
     "text": [
      "Added 70213/70213 (100%) books to the database\r"
     ]
    }
   ],
   "source": [
    "from sentence_transformers import SentenceTransformer\n",
    "import chromadb\n",
    "from datetime import datetime\n",
    "import uuid\n",
    "\n",
    "BATCH_SIZE = 500  # Adjust the batch size based on your system's capacity\n",
    "batch_texts = []\n",
    "batch_metadata = []\n",
    "batch_embeddings = []\n",
    "batch_ids = []\n",
    "counter = 0\n",
    "rows_len = books_df.shape[0]\n",
    "\n",
    "# initialise the database\n",
    "chroma_client = chromadb.PersistentClient(path=\"../chroma_db/\")\n",
    "\n",
    "# get collection\n",
    "collection_name = 'book_info'\n",
    "for collection in chroma_client.list_collections():\n",
    "    if collection.name == collection_name:\n",
    "        break\n",
    "else:\n",
    "    raise ValueError(f\"Collection name {collection_name} not found.\")\n",
    "\n",
    "# get embedder\n",
    "embedding_model = SentenceTransformer(\"all-MiniLM-L6-v2\")\n",
    "\n",
    "# iterate through dataframe and add to database in batches\n",
    "for _, row in books_df.iterrows():\n",
    "\n",
    "    # Prepare text for vectorization\n",
    "    vectorized_text = f\"{row['Title']} - {row['Description']} - {row['Category']}\"\n",
    "    \n",
    "    # Prepare metadata\n",
    "    metadata = {\n",
    "        \"Title\": row['Title'],\n",
    "        \"Authors\": row['Authors'],\n",
    "        \"Category\": row['Category'],\n",
    "        \"Publish Date\": row['Publish Date'],\n",
    "        \"added_on\": datetime.now().isoformat()\n",
    "    }\n",
    "    \n",
    "    # Prepare embeddings\n",
    "    embedding_text = embedding_model.encode(vectorized_text)\n",
    "    \n",
    "    # Append to the batch lists\n",
    "    batch_ids.append(str(uuid.uuid4()))\n",
    "    batch_texts.append(vectorized_text)\n",
    "    batch_metadata.append(metadata)\n",
    "    batch_embeddings.append(embedding_text)\n",
    "    counter += 1\n",
    "\n",
    "    # When batch is full or we're at the last row, insert batch into database\n",
    "    if len(batch_texts) == BATCH_SIZE or counter == rows_len:\n",
    "\n",
    "        collection.add(\n",
    "            ids=batch_ids,\n",
    "            documents=batch_texts,\n",
    "            metadatas=batch_metadata,\n",
    "            embeddings=batch_embeddings\n",
    "        )\n",
    "\n",
    "        # Clear the batch lists for the next batch\n",
    "        batch_ids.clear()\n",
    "        batch_texts.clear()\n",
    "        batch_metadata.clear()\n",
    "        batch_embeddings.clear()\n",
    "\n",
    "    # Print progress\n",
    "    print(f\"Added {counter}/{rows_len} ({int(counter * 100 / rows_len)}%) books to the database\", end=\"\\r\", flush=True)\n"
   ]
  }
 ],
 "metadata": {
  "kernelspec": {
   "display_name": "ironhack",
   "language": "python",
   "name": "python3"
  },
  "language_info": {
   "codemirror_mode": {
    "name": "ipython",
    "version": 3
   },
   "file_extension": ".py",
   "mimetype": "text/x-python",
   "name": "python",
   "nbconvert_exporter": "python",
   "pygments_lexer": "ipython3",
   "version": "3.12.7"
  }
 },
 "nbformat": 4,
 "nbformat_minor": 2
}
