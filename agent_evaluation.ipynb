{
 "cells": [
  {
   "cell_type": "markdown",
   "metadata": {},
   "source": [
    "# Agent Evaluation\n",
    "In this notebook we build an evaluation pipeline to test our model in different scenarios:\n",
    "- Retrieving data from the database\n",
    "- Searching Wikipedia\n",
    "- Searching Youtube"
   ]
  },
  {
   "cell_type": "markdown",
   "metadata": {},
   "source": [
    "## Installs and imports"
   ]
  },
  {
   "cell_type": "code",
   "execution_count": 10,
   "metadata": {},
   "outputs": [
    {
     "name": "stdout",
     "output_type": "stream",
     "text": [
      "OPENAI_API_KEY is set\n",
      "Langchain project: ai-librarian-database-calls-evaluation\n"
     ]
    }
   ],
   "source": [
    "# load env vars\n",
    "import os\n",
    "from dotenv import load_dotenv\n",
    "load_dotenv('chromadb_evaluation.env', override=True)  # change project evaluation name in environment\n",
    "\n",
    "if os.environ.get('OPENAI_API_KEY', ''):\n",
    "    print('OPENAI_API_KEY is set')\n",
    "print('Langchain project:', os.environ.get('LANGCHAIN_PROJECT', ''))"
   ]
  },
  {
   "cell_type": "markdown",
   "metadata": {},
   "source": [
    "## Get our langchain model\n",
    "Let's create an instance of our langchain model that will be used in the project"
   ]
  },
  {
   "cell_type": "code",
   "execution_count": null,
   "metadata": {},
   "outputs": [],
   "source": [
    "# create an agent\n",
    "import tools\n",
    "from ai_librarian import AiLibrarian\n",
    "\n",
    "avatar = AiLibrarian()\n",
    "\n",
    "# restrict the agent to only use these tools\n",
    "agent_tools = [\n",
    "    tools.search_database_for_book_information,\n",
    "    # tools.search_database_for_book_reviews,\n",
    "]\n",
    "\n",
    "avatar.create_worker_agent(agent_tools)\n",
    "\n",
    "# test the agent\n",
    "# avatar.generate_model_answer('Tell me about The Three Musketeers')\n"
   ]
  },
  {
   "cell_type": "markdown",
   "metadata": {},
   "source": [
    "## Create Evaluator"
   ]
  },
  {
   "cell_type": "code",
   "execution_count": 12,
   "metadata": {},
   "outputs": [],
   "source": [
    "from langchain_openai import ChatOpenAI\n",
    "from langchain.docstore.document import Document\n",
    "from langchain_core.prompts import ChatPromptTemplate\n",
    "from langchain.chains.combine_documents import create_stuff_documents_chain"
   ]
  },
  {
   "cell_type": "markdown",
   "metadata": {},
   "source": [
    "### Answer Score\n",
    "Let's rate the answer of our model compared to the user query\n"
   ]
  },
  {
   "cell_type": "code",
   "execution_count": 13,
   "metadata": {},
   "outputs": [],
   "source": [
    "def answer_score(query: str, context: str) -> bool:\n",
    "    \n",
    "    prompt_text = \"\"\"\n",
    "    You are an evaluator for a conversational AI system. The user asked:\n",
    "    \"{query}\"\n",
    "    \n",
    "    The AI responded with:\n",
    "    \"{context}\"\n",
    "    \n",
    "    Please grade on a scale from 0 to 5 if the response is \n",
    "    - Relevant to the question and answers the question\n",
    "    - A sensible, non-recursive, and complete answer\n",
    "    - Grammatically correct\n",
    "    - Engaging and informative\n",
    "    - Free of factual errors\n",
    "    - Free of offensive content\n",
    "\n",
    "    Answer with a single integer from 0 to 5, 0 being the worst and 5 being the best score.\n",
    "    \"\"\"\n",
    "\n",
    "    prompt = ChatPromptTemplate.from_messages(\n",
    "        [(\"system\", prompt_text),]\n",
    "    )\n",
    "\n",
    "    llm = ChatOpenAI(\n",
    "        temperature=0,\n",
    "        model_name='gpt-4o-mini',\n",
    "        api_key=os.getenv(\"OPENAI_API_KEY\")\n",
    "    )\n",
    "\n",
    "    chain = create_stuff_documents_chain(llm, prompt)\n",
    "    document = Document(page_content=context)\n",
    "    return chain.invoke({\"context\": [document], \"query\": query})\n",
    "\n",
    "# query = 'Tell me about The Three Musketeers'\n",
    "# context = avatar.generate_model_answer(query)\n",
    "# print('ANSWER SCORE:', answer_score(query, context))\n",
    "\n",
    "# context = 'The three musketeers is a cartoon with dogs for children'\n",
    "# print('ANSWER SCORE:', answer_score(query, context))"
   ]
  },
  {
   "cell_type": "markdown",
   "metadata": {},
   "source": [
    "### Sanity Check\n",
    "A sanity check is a simple check to ensure that the agent’s response is not nonsensical, empty, or wildly irrelevant. For instance, a response should not be blank, too short, or completely unrelated."
   ]
  },
  {
   "cell_type": "code",
   "execution_count": 14,
   "metadata": {},
   "outputs": [],
   "source": [
    "def sanity_check(query: str, context: str) -> bool:\n",
    "    \n",
    "    prompt_text = \"\"\"\n",
    "    You are an evaluator for a conversational AI system. The user asked:\n",
    "    \"{query}\"\n",
    "    \n",
    "    The AI responded with:\n",
    "    \"{context}\"\n",
    "    \n",
    "    Please determine if the response is:\n",
    "    - Relevant to the question\n",
    "    - A sensible, non-recursive, and complete answer\n",
    "\n",
    "    Answer with only \"True\" if it passes the sanity check and \"False\" if it does not.\n",
    "    \"\"\"\n",
    "\n",
    "    prompt = ChatPromptTemplate.from_messages(\n",
    "        [(\"system\", prompt_text),]\n",
    "    )\n",
    "\n",
    "    llm = ChatOpenAI(\n",
    "        temperature=0,\n",
    "        model_name='gpt-4o-mini',\n",
    "        api_key=os.getenv(\"OPENAI_API_KEY\")\n",
    "    )\n",
    "\n",
    "    chain = create_stuff_documents_chain(llm, prompt)\n",
    "    document = Document(page_content=context)\n",
    "    return chain.invoke({\"context\": [document], \"query\": query})\n",
    "\n",
    "# query = 'Tell me about The Three Musketeers'\n",
    "# context = avatar.generate_model_answer(query)\n",
    "# print('SANITY CHECK:', sanity_check(query, context))\n",
    "\n",
    "# context = 'The three musketeers is a cartoon with dogs for children'\n",
    "# print('SANITY CHECK:', sanity_check(query, context))"
   ]
  },
  {
   "cell_type": "markdown",
   "metadata": {},
   "source": [
    "### Response Time\n",
    "Let's create a method to calculate the response time"
   ]
  },
  {
   "cell_type": "code",
   "execution_count": 15,
   "metadata": {},
   "outputs": [],
   "source": [
    "import time\n",
    "\n",
    "def generate_model_answer_timed(query: str) -> tuple[str, float]:\n",
    "    start = time.time()\n",
    "    answer = avatar.generate_model_answer(query)\n",
    "    end = time.time()\n",
    "    response_time = end - start\n",
    "    return answer, response_time\n",
    "\n",
    "# query = 'Tell me about the Three Musketeers'\n",
    "# answer, gen_time = generate_model_answer_timed(query)\n",
    "# print(answer)\n",
    "# print(f\"Response time: {gen_time} seconds\")"
   ]
  },
  {
   "cell_type": "markdown",
   "metadata": {},
   "source": [
    "### Evaluate Readability\n",
    "The Flesch Reading Ease score is a popular readability test used to evaluate how easy a text is to read. It’s particularly useful in ensuring your chatbot's responses are clear and accessible to your target audience.\n",
    "\n",
    "Score Interpretation\n",
    "The Flesch Reading Ease Score ranges from 0 to 100, with higher scores indicating easier readability. Here’s a breakdown:\n",
    "\n",
    "Score Range\tDescription\tReadability Level  \n",
    "90 - 100\tVery Easy\t5th grade  \n",
    "80 - 89\tEasy\t6th grade  \n",
    "70 - 79\tFairly Easy\t7th grade  \n",
    "60 - 69\tStandard\t8th-9th grade  \n",
    "50 - 59\tFairly Difficult\tHigh school  \n",
    "30 - 49\tDifficult\tCollege  \n",
    "0 - 29\tVery Confusing\tCollege graduate and above  \n"
   ]
  },
  {
   "cell_type": "code",
   "execution_count": 16,
   "metadata": {},
   "outputs": [],
   "source": [
    "from textstat import flesch_reading_ease\n",
    "\n",
    "def readability_score(text: str) -> float:\n",
    "    # Higher scores indicate easier readability\n",
    "    return flesch_reading_ease(text)\n",
    "\n",
    "# query = 'Tell me about the Three Musketeers'\n",
    "# answer = avatar.generate_model_answer(query)\n",
    "# score = readability_score(answer)\n",
    "# print(f\"Readability score: {score}\")"
   ]
  },
  {
   "cell_type": "markdown",
   "metadata": {},
   "source": [
    "### Response length\n",
    "Let's see how long an answer is in terms of characters, words and tokens"
   ]
  },
  {
   "cell_type": "code",
   "execution_count": 17,
   "metadata": {},
   "outputs": [],
   "source": [
    "import tiktoken\n",
    "encoding = tiktoken.get_encoding(\"cl100k_base\")  # for gpt4o models\n",
    "\n",
    "def answer_length(text: str) -> int:\n",
    "    # initialise the tokenizer\n",
    "\n",
    "    characters = len(text)\n",
    "    words = len(text.split())\n",
    "    tokens = len(encoding.encode(text))\n",
    "\n",
    "    return characters, words, tokens\n",
    "\n",
    "# query = 'Tell me about the Three Musketeers'\n",
    "# answer = avatar.generate_model_answer(query)\n",
    "# length = answer_length(answer)\n",
    "# print(f\"Character count: {length[0]}\")\n",
    "# print(f\"Word count: {length[1]}\")\n",
    "# print(f\"Token count: {length[2]}\")"
   ]
  },
  {
   "cell_type": "markdown",
   "metadata": {},
   "source": [
    "### Lexical Overlap"
   ]
  },
  {
   "cell_type": "code",
   "execution_count": 18,
   "metadata": {},
   "outputs": [],
   "source": [
    "from sentence_transformers import SentenceTransformer, util\n",
    "from nltk.tokenize import word_tokenize\n",
    "import numpy as np\n",
    "from nltk.corpus import stopwords\n",
    "\n",
    "# Initialize the model\n",
    "model = SentenceTransformer('all-MiniLM-L6-v2')\n",
    "\n",
    "def semantic_overlap(query: str, answer: str) -> float:\n",
    "    # Tokenize and filter stop words\n",
    "    stopwords_en = stopwords.words('english')\n",
    "    query_words = set([word for word in word_tokenize(query.lower()) if word not in stopwords_en])\n",
    "    answer_words = set([word for word in word_tokenize(answer.lower()) if word not in stopwords_en])\n",
    "    \n",
    "    # Compute embeddings\n",
    "    query_embedding = model.encode(' '.join(query_words))\n",
    "    answer_embedding = model.encode(' '.join(answer_words))\n",
    "    \n",
    "    # Calculate cosine similarity\n",
    "    similarity_score = util.cos_sim(query_embedding, answer_embedding).item()\n",
    "    \n",
    "    return similarity_score\n",
    "\n",
    "# Example usage\n",
    "# query = 'Tell me about the Three Musketeers'\n",
    "# answer = avatar.generate_model_answer(query)\n",
    "# semantic_score = semantic_overlap(query, answer)\n",
    "# print(f\"Semantic overlap score: {semantic_score}\")\n"
   ]
  },
  {
   "cell_type": "markdown",
   "metadata": {},
   "source": [
    "### Entity Agreement\n",
    "NOT WORKING"
   ]
  },
  {
   "cell_type": "code",
   "execution_count": 19,
   "metadata": {},
   "outputs": [],
   "source": [
    "# import nltk\n",
    "# nltk.download('maxent_ne_chunker_tab')\n",
    "# nltk.download('words')\n",
    "# from nltk import ne_chunk, pos_tag, word_tokenize\n",
    "\n",
    "# def extract_entities(text):\n",
    "#     # Extract named entities from text\n",
    "#     chunks = ne_chunk(pos_tag(word_tokenize(text)))\n",
    "#     print(chunks.leaves())\n",
    "#     entities = [\" \".join([token for token, _ in chunk.leaves()])\n",
    "#             for chunk in chunks if hasattr(chunk, 'label')]\n",
    "#     print(f\"Extracted entities from '{text}': {entities}\")  # Debug output\n",
    "#     return entities\n",
    "\n",
    "# def entity_agreement(query, answer):\n",
    "#     # Extract entities in answer and query\n",
    "#     query_entities = set(extract_entities(query.lower()))\n",
    "#     answer_entities = set(extract_entities(answer.lower()))\n",
    "\n",
    "#     print(f\"Entities in query: {query_entities}\")  # Debug output\n",
    "#     print(f\"Entities in answer: {answer_entities}\")  # Debug output\n",
    "\n",
    "#     # Calculate proportion of entities in answer that are also in query\n",
    "#     if not answer_entities:\n",
    "#         return 0\n",
    "#     return len(answer_entities.intersection(query_entities)) / len(answer_entities)\n",
    "\n",
    "# Example Usage\n",
    "# query = 'Tell me about the Three Musketeers'\n",
    "# answer = 'The Three Musketeers is a novel by Alexandre Dumas.'\n",
    "# # answer = avatar.generate_model_answer(query)\n",
    "# agreement_score = entity_agreement(query, answer)\n",
    "# print(f\"Entity Agreement Score: {agreement_score}\")\n"
   ]
  },
  {
   "cell_type": "markdown",
   "metadata": {},
   "source": [
    "## Evaluation pipeline\n",
    "Let's group all the tests into one evaluation pipeline and run it on samples"
   ]
  },
  {
   "cell_type": "code",
   "execution_count": 20,
   "metadata": {},
   "outputs": [],
   "source": [
    "# create an empty dataframe\n",
    "import os\n",
    "import pandas as pd\n",
    "from datetime import datetime\n",
    "\n",
    "# create evaluatoin folder if it does not exist\n",
    "os.makedirs('evaluation', exist_ok=True)\n",
    "separator = 100 * '-'\n",
    "\n",
    "def save_row_to_csv(file: str, row: dict) -> None:\n",
    "\n",
    "    # check if the file exists\n",
    "    if os.path.exists(file):\n",
    "        # load the existing dataframe\n",
    "        df = pd.read_csv(file)\n",
    "    else:\n",
    "        # create a new dataframe\n",
    "        df = pd.DataFrame(columns=[\n",
    "            'query',\n",
    "            'answer',\n",
    "            'response_time',\n",
    "            'answer_score',\n",
    "            'sanity_check',\n",
    "            'readability_score',\n",
    "            'character_count',\n",
    "            'word_count',\n",
    "            'token_count',\n",
    "            'semantic_overlap',\n",
    "        ])\n",
    "\n",
    "    # add the new row to the dataframe\n",
    "    df.loc[len(df)] = row\n",
    "\n",
    "    # save the dataframe to a csv file\n",
    "    df.to_csv(file, index=False)\n",
    "\n",
    "\n",
    "def run_evaluation(queries: list[str], title: str = 'evaluation_results') -> None:\n",
    "    \"\"\"Run the evaluation for a list of queries\n",
    "\n",
    "    Args:\n",
    "        queries (list[str]): List of queries to evaluate\n",
    "    \"\"\"\n",
    "\n",
    "    csv_file = f'evaluation/{title}_{datetime.now().strftime(\"%Y%m%d_%H%M%S\")}.csv'\n",
    "\n",
    "    counter = 0\n",
    "    n_queries = len(queries)\n",
    "\n",
    "    for query in queries:\n",
    "        \n",
    "        # print progress\n",
    "        counter += 1\n",
    "        print(f\"{separator}\\nProgress: {counter}/{n_queries} | Query: {query}\\n{separator}\")\n",
    "\n",
    "        # generate answer and run all the tests\n",
    "        try:\n",
    "            answer, response_time = generate_model_answer_timed(query)\n",
    "            score = answer_score(query, answer)\n",
    "            sanity = sanity_check(query, answer)\n",
    "            readability = readability_score(answer)\n",
    "            characters, words, tokens = answer_length(answer)\n",
    "            semantic = semantic_overlap(query, answer)\n",
    "        except Exception as e:\n",
    "            print(f\"Error with query {query}: {e}\")\n",
    "            continue\n",
    "\n",
    "        # store results in a dictionary\n",
    "        row = {\n",
    "            'query': query,\n",
    "            'answer': answer,\n",
    "            'response_time': response_time,\n",
    "            'answer_score': score,\n",
    "            'sanity_check': sanity,\n",
    "            'readability_score': readability,\n",
    "            'character_count': characters,\n",
    "            'word_count': words,\n",
    "            'token_count': tokens,\n",
    "            'semantic_overlap': semantic,\n",
    "        }\n",
    "\n",
    "        # add row to csv file\n",
    "        save_row_to_csv(csv_file, row)\n",
    "\n"
   ]
  },
  {
   "cell_type": "markdown",
   "metadata": {},
   "source": [
    "## Evaluation 1: Agent calls to the database\n",
    "In this first evaluation, we will ask the agent for information about books that are already in the database. We will therefore evaluate how it retrieves information from the database only.\n",
    "\n",
    "Note: The agent is fetching information from the book_info collection using `vector_db.search_collection`. It filters the result based on distance values and the agent summarizes the results in its answer."
   ]
  },
  {
   "cell_type": "code",
   "execution_count": 21,
   "metadata": {},
   "outputs": [],
   "source": [
    "# create a new langchain project to track it\n",
    "title = 'database_calls_evaluation'\n"
   ]
  },
  {
   "cell_type": "code",
   "execution_count": 22,
   "metadata": {},
   "outputs": [
    {
     "name": "stdout",
     "output_type": "stream",
     "text": [
      "[\"Make 'Em Laugh: The Funny Business of America\", 'Rules of Engagement', \"Parade of Popular Hits (Reader's Digest Songbook)\", 'The Art of the Infinite: The Pleasures of Mathematics', 'The Devil Wears Prada a Novel', 'Fiasco: The American Military Adventure in Iraq', 'Organized Living', \"The Spirit to Serve: Marriott's Way\", 'The White Bull', 'The Wheel of Darkness (Pendergast)']\n"
     ]
    }
   ],
   "source": [
    "# load 100 books from the dataset we loaded into the database\n",
    "\n",
    "# load the clean dataset into a dataframe\n",
    "df = pd.read_csv('datasets/BooksDatasetClean.csv')\n",
    "\n",
    "# get random titles and store them in a list\n",
    "n_titles = 10\n",
    "queries = df.sample(n=n_titles)['Title'].tolist()\n",
    "print(queries)\n"
   ]
  },
  {
   "cell_type": "code",
   "execution_count": 23,
   "metadata": {},
   "outputs": [
    {
     "name": "stdout",
     "output_type": "stream",
     "text": [
      "----------------------------------------------------------------------------------------------------\n",
      "Progress: 1/10 | Query: Make 'Em Laugh: The Funny Business of America\n",
      "----------------------------------------------------------------------------------------------------\n",
      "\n",
      "\n",
      "\u001b[1m> Entering new AgentExecutor chain...\u001b[0m\n",
      "\u001b[32;1m\u001b[1;3m\n",
      "Invoking: `search_database_for_book_information` with `{'query_text': \"Make 'Em Laugh: The Funny Business of America\"}`\n",
      "\n",
      "\n",
      "\u001b[0m"
     ]
    },
    {
     "data": {
      "application/vnd.jupyter.widget-view+json": {
       "model_id": "f7b8ef095b584aa2b13083df6abeaa7e",
       "version_major": 2,
       "version_minor": 0
      },
      "text/plain": [
       "Batches:   0%|          | 0/1 [00:00<?, ?it/s]"
      ]
     },
     "metadata": {},
     "output_type": "display_data"
    },
    {
     "name": "stdout",
     "output_type": "stream",
     "text": [
      "\u001b[36;1m\u001b[1;3m{'documents': [[\"Make 'Em Laugh: The Funny Business of America - From the most popular routines and the most ingenious physical shtick to the snappiest wisecracks and the most biting satire of the last century, MAKE 'EM LAUGH illuminates who we are as a nation by exploring what makes us laugh, and why. Authors Laurence Maslon and Michael Kantor draw on countless sources to chronicle the past century of American comedy and the geniuses who created and performed it-melding biography, American history, and a lotta laughs into an exuberant, important book.  Each of the six chapters focuses a different style or archetype of comedy, from the slapstick pratfalls of Buster Keaton and Lucille Ball through the wiseguy put-downs of Groucho Marx and Larry David, to the incendiary bombshells of Mae West and Richard Pryor . And at every turn the significance of these comedians-smashing social boundaries, challenging the definition of good taste, speaking the truth to the powerful-is vividly tangible. MAKE 'EM LAUGH is more than a compendium of American comic genius; it is a window onto the way comedy both reflects the world and changes it-one laugh at a time.  Starting from the groundbreaking PBS series, the authors have gone deeper into the works and lives of America's great comic artists, with biographical portraits, archival materials, cultural overviews, and rare photos.  Brilliantly illustrated, with insights (and jokes) from comedians, writers and producers, along with film, radio, television, and theater historians, MAKE 'EM LAUGH is an indispensible, definitive book about comedy in America. -  Performing Arts , Comedy\", 'Laughing Matters: A Celebration of American Humor - A wide-ranging and humorous collection of stories, cartoons, film and radio scripts, and other pieces by such artists as Woody Allen, Russell Baker, Gary Trudeau, and Garrison Keillor -  Humor , General', \"A Funny Thing Happened on the Way to the Boardroom: Using Humor in Business Speaking - This is the first book to offer detailed advice on the effective use of humor in business situations such as presentations, meetings, or seminars. The author is a speech writer who has written for the CEOs of AT&T, Xerox, Monsanto, and the Bank of America. He has also written comedy for entertainers such as Rodney Dangerfield. Presents the basics of writing humorously in a clear, step-by-step fashion, and reveals invaluable tricks of the trade for creating one's own custom-tailored jokes using techniques employed by professional comedy writers. Also provides short one-line jokes arranged by subject, as well as longer, story-type jokes arranged by the meaning or the point that the story illustrates. -  Reference , Writing Skills\"]], 'metadatas': [[{'Authors': 'By Maslon, Laurence and Kantor, Michael (CON)', 'Category': ' Performing Arts , Comedy', 'Publish Date': 'Monday, December 1, 2008', 'Title': \"Make 'Em Laugh: The Funny Business of America\", 'added_on': '2024-11-06T11:24:49.636771'}, {'Authors': 'By Shalit, Gene', 'Category': ' Humor , General', 'Publish Date': 'Tuesday, September 1, 1987', 'Title': 'Laughing Matters: A Celebration of American Humor', 'added_on': '2024-11-06T10:54:11.079324'}, {'Authors': 'By Iapoce, Michael', 'Category': ' Reference , Writing Skills', 'Publish Date': 'Monday, August 1, 1988', 'Title': 'A Funny Thing Happened on the Way to the Boardroom: Using Humor in Business Speaking', 'added_on': '2024-11-06T11:37:21.683503'}]], 'distances': [[0.2954440116882324, 0.32113218307495117, 0.34607458114624023]]}\u001b[0m\u001b[32;1m\u001b[1;3m\"Make 'Em Laugh: The Funny Business of America,\" by Laurence Maslon and Michael Kantor, delves into the evolution of American comedy over the past century. It intertwines biography, history, and analysis of comedic styles, spotlighting morphologies from slapstick to satire, showcasing how comedy reflects and shapes societal narratives. This engaging work celebrates the great minds of humor, positioning their art as a powerful, transformative force within American culture.\u001b[0m\n",
      "\n",
      "\u001b[1m> Finished chain.\u001b[0m\n"
     ]
    },
    {
     "data": {
      "application/vnd.jupyter.widget-view+json": {
       "model_id": "43525da2d5c445bc8cc478eca0d306bd",
       "version_major": 2,
       "version_minor": 0
      },
      "text/plain": [
       "Batches:   0%|          | 0/1 [00:00<?, ?it/s]"
      ]
     },
     "metadata": {},
     "output_type": "display_data"
    },
    {
     "data": {
      "application/vnd.jupyter.widget-view+json": {
       "model_id": "f9fec649d324436faee90feb81a19b5d",
       "version_major": 2,
       "version_minor": 0
      },
      "text/plain": [
       "Batches:   0%|          | 0/1 [00:00<?, ?it/s]"
      ]
     },
     "metadata": {},
     "output_type": "display_data"
    },
    {
     "name": "stdout",
     "output_type": "stream",
     "text": [
      "----------------------------------------------------------------------------------------------------\n",
      "Progress: 2/10 | Query: Rules of Engagement\n",
      "----------------------------------------------------------------------------------------------------\n",
      "\n",
      "\n",
      "\u001b[1m> Entering new AgentExecutor chain...\u001b[0m\n",
      "\u001b[32;1m\u001b[1;3m\n",
      "Invoking: `search_database_for_book_information` with `{'query_text': 'Rules of Engagement'}`\n",
      "\n",
      "\n",
      "\u001b[0m"
     ]
    },
    {
     "data": {
      "application/vnd.jupyter.widget-view+json": {
       "model_id": "e706640bac884dec8afe516ff3a7c037",
       "version_major": 2,
       "version_minor": 0
      },
      "text/plain": [
       "Batches:   0%|          | 0/1 [00:00<?, ?it/s]"
      ]
     },
     "metadata": {},
     "output_type": "display_data"
    },
    {
     "name": "stdout",
     "output_type": "stream",
     "text": [
      "\u001b[36;1m\u001b[1;3m{'documents': [['Rules of Engagement - We, the undersigned, confined to spinsterhood through no fault of our own, hereby declare to guide our beloved niece Eliza Merriweather through the upcoming season and secure for her one, if not several, offers of marriage. We vow to consult the magnificent handbook Rules Of Engagement and follow its advice to the letter.Our mission will be difficult, for Eliza is a very independent-minded young woman and a worthy adversary. Already she has hatched a scheme of her own and persuaded Magnus MacKinnon, possessor of mesmerizing silver eyes and a shockingly sexy brogue, to play the role of attentive suitor. But with our help, it is only a matter of time before their \"pretend\" affections blossom into the real thing.And so we pledge to remain steadfast and to accept nothing less than complete victory: our dearest Eliza walking hand in hand down the aisle with Magnus MacKinnon.With true hearts and strong purpose,The Ladies Letitia and Viola Featherton -  Fiction , Romance , Historical']], 'metadatas': [[{'Authors': 'By Caskie, Kathryn', 'Category': ' Fiction , Romance , Historical', 'Publish Date': 'Saturday, May 1, 2004', 'Title': 'Rules of Engagement', 'added_on': '2024-11-06T11:32:37.883518'}]], 'distances': [[0.4857215881347656]]}\u001b[0m\u001b[32;1m\u001b[1;3m\"Rules of Engagement,\" by Kathryn Caskie, is a whimsical historical romance that revolves around Aunt Letitia and Viola's mission to help their headstrong niece, Eliza Merriweather, navigate the marriage market. Amid a plot thick with delightful unpredictability, Eliza orchestrates a charade with the charming Magnus MacKinnon, leading to a delightful exploration of love, upheaval, and passion. As the ladies zealously assist in hooking Eliza's interest, the tension between duty and desire crafts a vibrant narrative where genuine connections flourish amidst banter and schemes.\u001b[0m\n",
      "\n",
      "\u001b[1m> Finished chain.\u001b[0m\n"
     ]
    },
    {
     "data": {
      "application/vnd.jupyter.widget-view+json": {
       "model_id": "e127bac55a9a462895bca8808cd0076d",
       "version_major": 2,
       "version_minor": 0
      },
      "text/plain": [
       "Batches:   0%|          | 0/1 [00:00<?, ?it/s]"
      ]
     },
     "metadata": {},
     "output_type": "display_data"
    },
    {
     "data": {
      "application/vnd.jupyter.widget-view+json": {
       "model_id": "d4ca2c819e8e4473bd8adc64678266c5",
       "version_major": 2,
       "version_minor": 0
      },
      "text/plain": [
       "Batches:   0%|          | 0/1 [00:00<?, ?it/s]"
      ]
     },
     "metadata": {},
     "output_type": "display_data"
    },
    {
     "name": "stdout",
     "output_type": "stream",
     "text": [
      "----------------------------------------------------------------------------------------------------\n",
      "Progress: 3/10 | Query: Parade of Popular Hits (Reader's Digest Songbook)\n",
      "----------------------------------------------------------------------------------------------------\n",
      "\n",
      "\n",
      "\u001b[1m> Entering new AgentExecutor chain...\u001b[0m\n",
      "\u001b[32;1m\u001b[1;3m\n",
      "Invoking: `search_database_for_book_information` with `{'query_text': \"Parade of Popular Hits Reader's Digest Songbook\"}`\n",
      "\n",
      "\n",
      "\u001b[0m"
     ]
    },
    {
     "data": {
      "application/vnd.jupyter.widget-view+json": {
       "model_id": "511248cf51cf4b778c9f7bd7afd93693",
       "version_major": 2,
       "version_minor": 0
      },
      "text/plain": [
       "Batches:   0%|          | 0/1 [00:00<?, ?it/s]"
      ]
     },
     "metadata": {},
     "output_type": "display_data"
    },
    {
     "name": "stdout",
     "output_type": "stream",
     "text": [
      "\u001b[36;1m\u001b[1;3m{'documents': [['Songbook - “All I have to say about these songs is that I love them, and want to sing along to them, and force other people to listen to them, and get cross when these other people don’t like them as much as I do.” —Nick Hornby, from Songbook  A wise and hilarious collection from the bestselling author of Funny Girl, About a Boy, and High Fidelity. \\xa0Songs, songwriters, and why and how they get under our skin…Songbook is Nick Hornby’s labor of love. A shrewd, funny, and completely unique collection of musings on pop music, why it’s good, what makes us listen and love it, and the ways in which it attaches itself to our lives—all with the beat of a perfectly mastered mix tape. -  Music , Instruction & Study , Songwriting']], 'metadatas': [[{'Authors': 'By Hornby, Nick', 'Category': ' Music , Instruction & Study , Songwriting', 'Publish Date': 'Wednesday, October 1, 2003', 'Title': 'Songbook', 'added_on': '2024-11-06T11:17:22.387972'}]], 'distances': [[0.45911282300949097]]}\u001b[0m\u001b[32;1m\u001b[1;3mThe \"Parade of Popular Hits\" from Reader's Digest is a rich songbook featuring a collection of familiar songs that evoke nostalgia and joy. While details on its specific content are limited, songbooks like this often aim to unite diverse musical favorites, inviting readers to connect deeply with melodies and lyrics that speak to personal experiences and collective memories. The lively celebration of popular song continuously shows how music shapes and reflects our lives.\u001b[0m\n",
      "\n",
      "\u001b[1m> Finished chain.\u001b[0m\n"
     ]
    },
    {
     "data": {
      "application/vnd.jupyter.widget-view+json": {
       "model_id": "645c1c5da5c248e3b254fc58bdf48576",
       "version_major": 2,
       "version_minor": 0
      },
      "text/plain": [
       "Batches:   0%|          | 0/1 [00:00<?, ?it/s]"
      ]
     },
     "metadata": {},
     "output_type": "display_data"
    },
    {
     "data": {
      "application/vnd.jupyter.widget-view+json": {
       "model_id": "7cea02e6c0c843fab623ea83d7c9c421",
       "version_major": 2,
       "version_minor": 0
      },
      "text/plain": [
       "Batches:   0%|          | 0/1 [00:00<?, ?it/s]"
      ]
     },
     "metadata": {},
     "output_type": "display_data"
    },
    {
     "name": "stdout",
     "output_type": "stream",
     "text": [
      "----------------------------------------------------------------------------------------------------\n",
      "Progress: 4/10 | Query: The Art of the Infinite: The Pleasures of Mathematics\n",
      "----------------------------------------------------------------------------------------------------\n",
      "\n",
      "\n",
      "\u001b[1m> Entering new AgentExecutor chain...\u001b[0m\n",
      "\u001b[32;1m\u001b[1;3m\n",
      "Invoking: `search_database_for_book_information` with `{'query_text': 'The Art of the Infinite: The Pleasures of Mathematics'}`\n",
      "\n",
      "\n",
      "\u001b[0m"
     ]
    },
    {
     "data": {
      "application/vnd.jupyter.widget-view+json": {
       "model_id": "44fe2c3611a04245afeb0b5d0e96dfdd",
       "version_major": 2,
       "version_minor": 0
      },
      "text/plain": [
       "Batches:   0%|          | 0/1 [00:00<?, ?it/s]"
      ]
     },
     "metadata": {},
     "output_type": "display_data"
    },
    {
     "name": "stdout",
     "output_type": "stream",
     "text": [
      "\u001b[36;1m\u001b[1;3m{'documents': [['The Art of the Infinite: The Pleasures of Mathematics - Robert Kaplan\\'s The Nothing That Is: A Natural History of Zero was an international best-seller, translated into eight languages. The Times called it \"elegant, discursive, and littered with quotes and allusions from Aquinas via Gershwin to Woolf\" and The Philadelphia Inquirer praised it as \"absolutely scintillating.\"      In this delightful new book, Robert Kaplan, writing together with his wife Ellen Kaplan, once again takes us on a witty, literate, and accessible tour of the world of mathematics. Where The Nothing That Is looked at math through the lens of zero, The Art of the Infinite takes infinity, in its countless guises, as a touchstone for understanding mathematical thinking. Tracing a path from Pythagoras, whose great Theorem led inexorably to a discovery that his followers tried in vain to keep secret (the existence of irrational numbers); through Descartes and Leibniz; to the brilliant, haunted Georg Cantor, who proved that infinity can come in different sizes, the Kaplans show how the attempt to grasp the ungraspable embodies the essence of mathematics. The Kaplans guide us through the \"Republic of Numbers,\" where we meet both its upstanding citizens and more shadowy dwellers; and we travel across the plane of geometry into the unlikely realm where parallel lines meet. Along the way, deft character studies of great mathematicians (and equally colorful lesser ones) illustrate the opposed yet intertwined modes of mathematical thinking: the intutionist notion that we discover mathematical truth as it exists, and the formalist belief that math is true because we invent consistent rules for it.       \"Less than All,\" wrote William Blake, \"cannot satisfy Man.\" The Art of the Infinite shows us some of the ways that Man has grappled with All, and reveals mathematics as one of the most exhilarating expressions of the human imagination. -  Mathematics , Infinity', 'The Joy of Mathematics: Discovering Mathematics All Around You - Part of the joy of mathematics is that it is everywhere-in soap bubbles, electricity, da Vinci\\'s masterpieces, even in an ocean wave. Written by the well-known mathematics teacher consultant, this volume\\'s collection of over 200 clearly illustrated mathematical ideas, concepts, puzzles, and games shows where they turn up in the \"real\" world. You\\'ll find out what a googol is, visit hotel infinity, read a thorny logic problem that was stumping them back in the 8th century.THE JOY OF MATHEMATICS is designed to be opened at randomit\\'s mini essays are self-contained providing the reader with an enjoyable way to explore and experience mathematics at its best. -  Mathematics , History & Philosophy', \"More Joy of Mathematics: Exploring Mathematics All Around You - Now Pappas has done it again, or rather, has done more!The pages of MORE JOY OF MATHEMATICS spill over with ideas, puzzles, games from all over the world, historic background, exciting graphics and up-to-the-minute math breakthrough. Readers will find plent to enjoy as they discover Pappas' unique easy reading style.This sequel to the popular title, THE JOY OF MATHEMATICS, let's you appreciate how mathematics is connected to the everyday world? and how a glimpse of essential concepts can enrich one's life in so many ways. Pappas' fresh and lively approach to mathematics ? appealing even to those who are intimidated by the world of numbers?unlocks pleasures, mysteries, and applications of over two-hundred of mathematical concepts. -  Mathematics , History & Philosophy\"]], 'metadatas': [[{'Authors': 'By Kaplan, Robert and Kaplan, Ellen', 'Category': ' Mathematics , Infinity', 'Publish Date': 'Tuesday, April 1, 2003', 'Title': 'The Art of the Infinite: The Pleasures of Mathematics', 'added_on': '2024-11-06T11:04:03.715608'}, {'Authors': 'By Pappas, Theoni', 'Category': ' Mathematics , History & Philosophy', 'Publish Date': 'Friday, January 1, 1993', 'Title': 'The Joy of Mathematics: Discovering Mathematics All Around You', 'added_on': '2024-11-06T11:14:46.687448'}, {'Authors': 'By Pappas, Theoni', 'Category': ' Mathematics , History & Philosophy', 'Publish Date': 'Tuesday, January 1, 1991', 'Title': 'More Joy of Mathematics: Exploring Mathematics All Around You', 'added_on': '2024-11-06T11:25:01.062082'}]], 'distances': [[0.24947196245193481, 0.25364333391189575, 0.2988013029098511]]}\u001b[0m\u001b[32;1m\u001b[1;3m\"The Art of the Infinite: The Pleasures of Mathematics\" by Robert Kaplan and Ellen Kaplan takes readers on an engaging exploration of infinity in mathematics. Through anecdotes about historic greats like Pythagoras and Cantor, the authors show how conquistadors of mathematics have sought to understand paradoxes that challenge our counting instinct. This book invites readers to appreciate math not merely as a set of formulas, but as a potent expression of human creativity and thought.\u001b[0m\n",
      "\n",
      "\u001b[1m> Finished chain.\u001b[0m\n"
     ]
    },
    {
     "data": {
      "application/vnd.jupyter.widget-view+json": {
       "model_id": "c2597c37070f43e4abfe5f7419dc9de8",
       "version_major": 2,
       "version_minor": 0
      },
      "text/plain": [
       "Batches:   0%|          | 0/1 [00:00<?, ?it/s]"
      ]
     },
     "metadata": {},
     "output_type": "display_data"
    },
    {
     "data": {
      "application/vnd.jupyter.widget-view+json": {
       "model_id": "567ae362037f40afa5656d1d1f7bf1dd",
       "version_major": 2,
       "version_minor": 0
      },
      "text/plain": [
       "Batches:   0%|          | 0/1 [00:00<?, ?it/s]"
      ]
     },
     "metadata": {},
     "output_type": "display_data"
    },
    {
     "name": "stdout",
     "output_type": "stream",
     "text": [
      "----------------------------------------------------------------------------------------------------\n",
      "Progress: 5/10 | Query: The Devil Wears Prada a Novel\n",
      "----------------------------------------------------------------------------------------------------\n",
      "\n",
      "\n",
      "\u001b[1m> Entering new AgentExecutor chain...\u001b[0m\n",
      "\u001b[32;1m\u001b[1;3m\n",
      "Invoking: `search_database_for_book_information` with `{'query_text': 'The Devil Wears Prada a Novel'}`\n",
      "\n",
      "\n",
      "\u001b[0m"
     ]
    },
    {
     "data": {
      "application/vnd.jupyter.widget-view+json": {
       "model_id": "c9473a7687104630a7d5c96b7c37be86",
       "version_major": 2,
       "version_minor": 0
      },
      "text/plain": [
       "Batches:   0%|          | 0/1 [00:00<?, ?it/s]"
      ]
     },
     "metadata": {},
     "output_type": "display_data"
    },
    {
     "name": "stdout",
     "output_type": "stream",
     "text": [
      "\u001b[36;1m\u001b[1;3m{'documents': [['The Devil Wears Prada a Novel - A delightfully dishy novel about the all-time most impossible boss in the history of impossible bosses and the basis for the major motion picture starring Anne Hathaway and Meryl Streep.\\xa0 Andrea Sachs, a small-town girl fresh out of college, lands the job “a million girls would die for.” Hired as the assistant to Miranda Priestly, the high-profile, fabulously successful editor of Runway magazine, Andrea finds herself in an office that shouts Prada! Armani! Versace! at every turn, a world populated by impossibly thin, heart-wrenchingly stylish women and beautiful men clad in fine-ribbed turtlenecks and tight leather pants that show off their lifelong dedication to the gym. With breathtaking ease, Miranda can turn each and every one of these hip sophisticates into a scared, whimpering child. The Devil Wears Prada gives a rich and hilarious new meaning to complaints about \"The Boss from Hell.\" Narrated in Andrea’s smart, refreshingly disarming voice, it traces a deep, dark, devilish view of life at the top only hinted at in gossip columns and over Cosmopolitans at the trendiest cocktail parties. From sending the latest, not-yet-in-stores Harry Potter to Miranda’s children in Paris by private jet, to locating an unnamed antique store where Miranda had at some point admired a vintage dresser, to serving lattes to Miranda at precisely the piping hot temperature she prefers, Andrea is sorely tested each and every day—and often late into the night with orders barked over the phone. She puts up with it all by keeping her eyes on the prize: a recommendation from Miranda that will get Andrea a top job at any magazine of her choosing. As things escalate from the merely unacceptable to the downright outrageous, however, Andrea begins to realize that the job a million girls would die for may just kill her. And even if she survives, she has to decide whether or not the job is worth the price of her soul. -  Fiction , Humorous , General', 'The Devil Wears Prada: A Novel - A delightfully dishy novel about the all-time most impossible boss in the history of impossible bosses. Andrea Sachs, a small-town girl fresh out of college, lands the job “a million girls would die for.” Hired as the assistant to Miranda Priestly, the high-profile, fabulously successful editor of Runway magazine, Andrea finds herself in an office that shouts Prada! Armani! Versace! at every turn, a world populated by impossibly thin, heart-wrenchingly stylish women and beautiful men clad in fine-ribbed turtlenecks and tight leather pants that show off their lifelong dedication to the gym. With breathtaking ease, Miranda can turn each and every one of these hip sophisticates into a scared, whimpering child. THE DEVIL WEARS PRADA gives a rich and hilarious new meaning to complaints about “The Boss from Hell.” Narrated in Andrea’s smart, refreshingly disarming voice, it traces a deep, dark, devilish view of life at the top only hinted at in gossip columns and over Cosmopolitans at the trendiest cocktail parties. From sending the latest, not-yet-in-stores Harry Potter to Miranda’s children in Paris by private jet, to locating an unnamed antique store where Miranda had at some point admired a vintage dresser, to serving lattes to Miranda at precisely the piping hot temperature she prefers, Andrea is sorely tested each and every day—and often late into the night with orders barked over the phone. She puts up with it all by keeping her eyes on the prize: a recommendation from Miranda that will get Andrea a top job at any magazine of her choosing. As things escalate from the merely unacceptable to the downright outrageous, however, Andrea begins to realize that the job a million girls would die for may just kill her. And even if she survives, she has to decide whether or not the job is worth the price of her soul. -  Fiction , Humorous , General', 'The Devil Wears Prada - A delightfully dishy novel about the all-time most impossible boss in the history of impossible bosses. Andrea Sachs, a small-town girl fresh out of college, lands the job “a million girls would die for.” Hired as the assistant to Miranda Priestly, the high-profile, fabulously successful editor of Runway magazine, Andrea finds herself in an office that shouts Prada! Armani! Versace! at every turn, a world populated by impossibly thin, heart-wrenchingly stylish women and beautiful men clad in fine-ribbed turtlenecks and tight leather pants that show off their lifelong dedication to the gym. With breathtaking ease, Miranda can turn each and every one of these hip sophisticates into a scared, whimpering child. THE DEVIL WEARS PRADA gives a rich and hilarious new meaning to complaints about “The Boss from Hell.” Narrated in Andrea’s smart, refreshingly disarming voice, it traces a deep, dark, devilish view of life at the top only hinted at in gossip columns and over Cosmopolitans at the trendiest cocktail parties. From sending the latest, not-yet-in-stores Harry Potter to Miranda’s children in Paris by private jet, to locating an unnamed antique store where Miranda had at some point admired a vintage dresser, to serving lattes to Miranda at precisely the piping hot temperature she prefers, Andrea is sorely tested each and every day—and often late into the night with orders barked over the phone. She puts up with it all by keeping her eyes on the prize: a recommendation from Miranda that will get Andrea a top job at any magazine of her choosing. As things escalate from the merely unacceptable to the downright outrageous, however, Andrea begins to realize that the job a million girls would die for may just kill her. And even if she survives, she has to decide whether or not the job is worth the price of her soul. -  Fiction , General']], 'metadatas': [[{'Authors': 'By Weisberger, Lauren', 'Category': ' Fiction , Humorous , General', 'Publish Date': 'Thursday, April 1, 2004', 'Title': 'The Devil Wears Prada a Novel', 'added_on': '2024-11-06T11:10:21.856602'}, {'Authors': 'By Weisberger, Lauren', 'Category': ' Fiction , Humorous , General', 'Publish Date': 'Tuesday, April 1, 2003', 'Title': 'The Devil Wears Prada: A Novel', 'added_on': '2024-11-06T11:03:07.586606'}, {'Authors': 'By Weisberger, Lauren', 'Category': ' Fiction , General', 'Publish Date': 'Monday, May 1, 2006', 'Title': 'The Devil Wears Prada', 'added_on': '2024-11-06T11:06:39.616186'}]], 'distances': [[0.2533561587333679, 0.2534494996070862, 0.26230061054229736]]}\u001b[0m\u001b[32;1m\u001b[1;3m\"The Devil Wears Prada,\" by Lauren Weisberger, explores the challenges faced by Andrea Sachs, a recent college graduate who becomes the assistant to the powerful and feared editor, Miranda Priestly, of Runway magazine. As Andrea navigates an often outrageous work environment, the novel humorously reflects on youthful ambition, identity, and the tousles with ethical dilemmas on what success truly costs. Ultimately, it questions whether achieving one's career aspirations comes at the expense of personal integrity and well-being, capturing both the alluring glitter of the fashion world and its demanding pace.\u001b[0m\n",
      "\n",
      "\u001b[1m> Finished chain.\u001b[0m\n"
     ]
    },
    {
     "data": {
      "application/vnd.jupyter.widget-view+json": {
       "model_id": "cca96aabeff9402ca3402312bf1c5409",
       "version_major": 2,
       "version_minor": 0
      },
      "text/plain": [
       "Batches:   0%|          | 0/1 [00:00<?, ?it/s]"
      ]
     },
     "metadata": {},
     "output_type": "display_data"
    },
    {
     "data": {
      "application/vnd.jupyter.widget-view+json": {
       "model_id": "7694ca70ab9d4e74ab755ccdec640a5e",
       "version_major": 2,
       "version_minor": 0
      },
      "text/plain": [
       "Batches:   0%|          | 0/1 [00:00<?, ?it/s]"
      ]
     },
     "metadata": {},
     "output_type": "display_data"
    },
    {
     "name": "stdout",
     "output_type": "stream",
     "text": [
      "----------------------------------------------------------------------------------------------------\n",
      "Progress: 6/10 | Query: Fiasco: The American Military Adventure in Iraq\n",
      "----------------------------------------------------------------------------------------------------\n",
      "\n",
      "\n",
      "\u001b[1m> Entering new AgentExecutor chain...\u001b[0m\n",
      "\u001b[32;1m\u001b[1;3m\n",
      "Invoking: `search_database_for_book_information` with `{'query_text': 'Fiasco: The American Military Adventure in Iraq'}`\n",
      "\n",
      "\n",
      "\u001b[0m"
     ]
    },
    {
     "data": {
      "application/vnd.jupyter.widget-view+json": {
       "model_id": "78e5ae02d97441a0a0b20730b009eb6b",
       "version_major": 2,
       "version_minor": 0
      },
      "text/plain": [
       "Batches:   0%|          | 0/1 [00:00<?, ?it/s]"
      ]
     },
     "metadata": {},
     "output_type": "display_data"
    },
    {
     "name": "stdout",
     "output_type": "stream",
     "text": [
      "\u001b[36;1m\u001b[1;3m{'documents': [[\"Fiasco: The American Military Adventure in Iraq - A military chronicle of the Iraq war is a critical assessment of America's role as viewed from the firsthand perspectives of senior military officers that argues that the guerrilla insurgency that took place in the months after the fall of Saddam Hussein was avoidable and that officers who spoke against the war did so at the cost of their careers. Simultaneous. -  History , Military , United States\", \"Fiasco: The American Military Adventure in Iraq - A military chronicle of the Iraq war is a critical assessment of America's role as viewed from the firsthand perspectives of senior military officers that argues that the guerrilla insurgency that took place in the months after the fall of Saddam Hussein was avoidable and that officers who spoke against the war did so at the cost of their careers. 200,000 first printing. -  History , Military , United States\", \"Fiasco: The American Military Adventure in Iraq, 2003 to 2005 - Finalist for the Pulitzer PrizeOne of the Washington Post Book World's 10 Best Books of the YearOne of Time's 10 Best Books of the YearUSA Today's Nonfiction Book of the YearA\\xa0New York Times Notable BookThe definitive account of the American military's tragic experience in IraqFiasco\\xa0is a masterful reckoning with the planning and execution of the American military invasion and occupation of Iraq through mid-2006, now with a postscript on recent developments. Ricks draws on the exclusive cooperation of an extraordinary number of American personnel, including more than one hundred senior officers, and access to more than 30,000 pages of official documents, many of them never before made public. Tragically, it is an undeniable account—explosive, shocking, and authoritative—of unsurpassed tactical success combined with unsurpassed strategic failure that indicts some of America's most powerful and honored civilian and military leaders. -  History , Military , Iraq War (2003-2011)\"]], 'metadatas': [[{'Authors': 'By Ricks, Thomas and Lurie, James (NRT)', 'Category': ' History , Military , United States', 'Publish Date': 'Saturday, July 1, 2006', 'Title': 'Fiasco: The American Military Adventure in Iraq', 'added_on': '2024-11-06T11:33:36.815609'}, {'Authors': 'By Ricks, Thomas', 'Category': ' History , Military , United States', 'Publish Date': 'Saturday, July 1, 2006', 'Title': 'Fiasco: The American Military Adventure in Iraq', 'added_on': '2024-11-06T11:23:53.225415'}, {'Authors': 'By Ricks, Thomas', 'Category': ' History , Military , Iraq War (2003-2011)', 'Publish Date': 'Sunday, July 1, 2007', 'Title': 'Fiasco: The American Military Adventure in Iraq, 2003 to 2005', 'added_on': '2024-11-06T11:32:30.703518'}]], 'distances': [[0.11882638931274414, 0.11959385871887207, 0.2258208990097046]]}\u001b[0m\u001b[32;1m\u001b[1;3m\"Fiasco: The American Military Adventure in Iraq\" by Thomas Ricks is a critical and detailed examination of the U.S. military's involvement in Iraq following the 2003 invasion. The book draws from interviews with over one hundred senior military officials and official documents, providing a stark picture of strategic missteps and the rise of guerrilla insurgency that was, many argue, avoidable. Ricks's work serves as a powerful indictment of policy and choice, revealing the tragic clash between tactical success on the battlefield and failed strategic planning in wartime tactics.\u001b[0m\n",
      "\n",
      "\u001b[1m> Finished chain.\u001b[0m\n"
     ]
    },
    {
     "data": {
      "application/vnd.jupyter.widget-view+json": {
       "model_id": "699180dbb37c401b9bd2b74ba70c248c",
       "version_major": 2,
       "version_minor": 0
      },
      "text/plain": [
       "Batches:   0%|          | 0/1 [00:00<?, ?it/s]"
      ]
     },
     "metadata": {},
     "output_type": "display_data"
    },
    {
     "data": {
      "application/vnd.jupyter.widget-view+json": {
       "model_id": "403233aa0a4f4354abfc19789dafbc79",
       "version_major": 2,
       "version_minor": 0
      },
      "text/plain": [
       "Batches:   0%|          | 0/1 [00:00<?, ?it/s]"
      ]
     },
     "metadata": {},
     "output_type": "display_data"
    },
    {
     "name": "stdout",
     "output_type": "stream",
     "text": [
      "----------------------------------------------------------------------------------------------------\n",
      "Progress: 7/10 | Query: Organized Living\n",
      "----------------------------------------------------------------------------------------------------\n",
      "\n",
      "\n",
      "\u001b[1m> Entering new AgentExecutor chain...\u001b[0m\n",
      "\u001b[32;1m\u001b[1;3m\n",
      "Invoking: `search_database_for_book_information` with `{'query_text': 'Organized Living'}`\n",
      "\n",
      "\n",
      "\u001b[0m"
     ]
    },
    {
     "data": {
      "application/vnd.jupyter.widget-view+json": {
       "model_id": "20952e0cbeb74a5095271b85f0b9172d",
       "version_major": 2,
       "version_minor": 0
      },
      "text/plain": [
       "Batches:   0%|          | 0/1 [00:00<?, ?it/s]"
      ]
     },
     "metadata": {},
     "output_type": "display_data"
    },
    {
     "name": "stdout",
     "output_type": "stream",
     "text": [
      "\u001b[36;1m\u001b[1;3m{'documents': [[\"Organizing for Life: Declutter Your Mind to Declutter Your World - Somehow, no matter how hard some people try to change their messy habits, they just can't seem to keep their homes in any kind of order. Magazines and books and television shows offer all kinds of advice and tactics for keeping a house organized and neat and livable. But what some people need is not more advice but a change in their mindsets.Organizing for Life helps readers understand why they seem to be inherently messy people, exposing the lies they tell themselves and introducing the truth about how they really can have a clean, inviting home. Felton helps readers focus on overcoming the roadblocks that keep them in a permanently messy state in order to change their habits for good. -  Self-help , Motivational & Inspirational\", \"Organizing from the Inside Out, Second Edition: The Foolproof System For Organizing Your Home, Your Office and Your Life - The New York Times bestselling guide to putting things in order. Put America's #1 organizer to work for you. Getting organized is a skill that anyone can learn, and there's no better teacher than America's organizing queen, Julie Morgenstern, as hundreds of thousands of readers have learned. Drawing on her years of experience as a professional organizer, Morgenstern outlines a simple organizing plan that starts with understanding your individual goals, natural habits, and psychological needs, so that you can work with your priorities and personality rather than against them. The basic steps-Analyze, Strategize, Attack-can be applied to any space or situation. In this thoroughly revised edition, Morgenstern has incorporated new information in response to feedback from her clients and audiences. These changes include - new chapters on organizing photographs, handbags, briefcases, and travel bags - an expanded program for organizing your kitchen - a new guide to getting started- a guide to taming time and technology - a fully updated resource guideSo whether it's a refrigerator cluttered with leftover mystery meals, a generation's worth of family photographs, or the challenge of living or working with a disorganized person, Julie Morgenstern will show you how to handle it all. -  Self-help , Personal Growth , General\", \"Organizing From the Inside Out - Veteran professional organizer Morgenstern has spent years honing the principles of organization into a simple, and universal system. Organizing from the inside out--developing a plan tailored to each individual's psychological needs--ensures, once and for all, a system that won't break down.Morgenstern explains the basic concepts--analyze, strategize, attack--then provides tips gleaned from her years of experience with offices, home offices, mobile offices, children's rooms, kitchens, garages, and storage spaces. Organizing From the Inside Out will be welcomed by corporate executives, entrepreneurs and the self-employed, working parents, students and city dwellers in small apartments--anyone facing an overwhelming amount of clutter, both physical and psychic. Also provided are useful chapters on time management and taming technology, critical elements in any modern organizing scheme. -  Self-help , General\"]], 'metadatas': [[{'Authors': 'By Felton, Sandra', 'Category': ' Self-help , Motivational & Inspirational', 'Publish Date': 'Thursday, March 1, 2007', 'Title': 'Organizing for Life: Declutter Your Mind to Declutter Your World', 'added_on': '2024-11-06T11:21:02.504511'}, {'Authors': 'By Morgenstern, Julie', 'Category': ' Self-help , Personal Growth , General', 'Publish Date': 'Sunday, August 1, 2004', 'Title': 'Organizing from the Inside Out, Second Edition: The Foolproof System For Organizing Your Home, Your Office and Your Life', 'added_on': '2024-11-06T11:17:29.686973'}, {'Authors': 'By Morgenstern, Julie', 'Category': ' Self-help , General', 'Publish Date': 'Tuesday, September 1, 1998', 'Title': 'Organizing From the Inside Out', 'added_on': '2024-11-06T11:01:46.994697'}]], 'distances': [[0.3576480746269226, 0.3593403100967407, 0.3673766851425171]]}\u001b[0m\u001b[32;1m\u001b[1;3mIt seems there are various titles related to the theme of organized living, focusing primarily on self-help and personal growth. Notable among them is \"Organizing for Life\" by Sandra Felton, which encourages decluttering both your mind and surrounding environment to create a sense of peace. Another is \"Organizing from the Inside Out\" by Julie Morgenstern, who offers practical strategies for establishing an effective organization system tailored to individual psychology and preferences. Both engage deeply with the relationship between our mental states and the chaos in our lives, emphasizing that true organized living comes from understanding oneself first.\u001b[0m\n",
      "\n",
      "\u001b[1m> Finished chain.\u001b[0m\n"
     ]
    },
    {
     "data": {
      "application/vnd.jupyter.widget-view+json": {
       "model_id": "51b68b77a62242c8aa474270fde27c77",
       "version_major": 2,
       "version_minor": 0
      },
      "text/plain": [
       "Batches:   0%|          | 0/1 [00:00<?, ?it/s]"
      ]
     },
     "metadata": {},
     "output_type": "display_data"
    },
    {
     "data": {
      "application/vnd.jupyter.widget-view+json": {
       "model_id": "9f29616a87404b349fabf7bacc9f2931",
       "version_major": 2,
       "version_minor": 0
      },
      "text/plain": [
       "Batches:   0%|          | 0/1 [00:00<?, ?it/s]"
      ]
     },
     "metadata": {},
     "output_type": "display_data"
    },
    {
     "name": "stdout",
     "output_type": "stream",
     "text": [
      "----------------------------------------------------------------------------------------------------\n",
      "Progress: 8/10 | Query: The Spirit to Serve: Marriott's Way\n",
      "----------------------------------------------------------------------------------------------------\n",
      "\n",
      "\n",
      "\u001b[1m> Entering new AgentExecutor chain...\u001b[0m\n",
      "\u001b[32;1m\u001b[1;3m\n",
      "Invoking: `search_database_for_book_information` with `{'query_text': \"The Spirit to Serve: Marriott's Way\"}`\n",
      "\n",
      "\n",
      "\u001b[0m"
     ]
    },
    {
     "data": {
      "application/vnd.jupyter.widget-view+json": {
       "model_id": "bf28969f53294a09b84a1eb8bc7a8070",
       "version_major": 2,
       "version_minor": 0
      },
      "text/plain": [
       "Batches:   0%|          | 0/1 [00:00<?, ?it/s]"
      ]
     },
     "metadata": {},
     "output_type": "display_data"
    },
    {
     "name": "stdout",
     "output_type": "stream",
     "text": [
      "\u001b[36;1m\u001b[1;3m{'documents': [[\"MitzvahChic: How to Host a Meaningful, Fun, Drop-Dead Gorgeous Bar or Bat Mitzvah - An indispensable, modern-day guide to planning the perfect bar or bat mitzvah, celebrating substance and style    There used to be only two approaches to the bar or bat mitzvah party -- a low-key event that reflects the solemnity of this sacred rite of passage or a big bash that has no connection to the religious service. For many, it was an impossible dilemma. Will a big bash trivialize and overshadow the bar or bat mitzvah experience? Will too much spirituality suck the life out of an otherwise fabulous party?   MitzvahChic is the first book that proves that if you want a truly amazing experience, you can and must have it all! Blending meaningful Jewish elements with high-style contemporary party planning, this inspiring and useful guide will show you how to have the ultimate bar or bat mitzvah -- a profoundly moving service followed by an unforgettable party. The MitzvahChic approach also shows how to honor your child in a big way, rather than reducing him or her to an overused pop culture theme or a single cliché: He's into baseball! She loves horses!   This must-have guide gives advice on the major decisions, the basics of the service, and the party details that really matter. It also features:     A complete guide to the Torah, including dates and summaries of the portions and supplementary materials    Eight complete, themed parties, including party favors, decorations, and photographs of sample tables    A time line to help plan the bar or bat mitzvah up to two years ahead     Instructions for being MitzvahChic on a budget    Advice on how to include non-Jewish friends and family members in the ceremony    A practical guide to all things mitzvah from the Torah to the tablecloth, MitzvahChic will help create a beautiful, powerful, resonant, and unforgettable rite of passage. -  Reference , Personal & Practical Guides\"]], 'metadatas': [[{'Authors': 'By Greenberg, Gail Anthony', 'Category': ' Reference , Personal & Practical Guides', 'Publish Date': 'Sunday, October 1, 2006', 'Title': 'MitzvahChic: How to Host a Meaningful, Fun, Drop-Dead Gorgeous Bar or Bat Mitzvah', 'added_on': '2024-11-06T11:18:27.577345'}]], 'distances': [[0.49793076515197754]]}\u001b[0mError with query The Spirit to Serve: Marriott's Way: The model produced invalid content. Consider modifying your prompt if you are seeing this error persistently.\n",
      "----------------------------------------------------------------------------------------------------\n",
      "Progress: 9/10 | Query: The White Bull\n",
      "----------------------------------------------------------------------------------------------------\n",
      "\n",
      "\n",
      "\u001b[1m> Entering new AgentExecutor chain...\u001b[0m\n",
      "\u001b[32;1m\u001b[1;3m\n",
      "Invoking: `search_database_for_book_information` with `{'query_text': 'The White Bull'}`\n",
      "\n",
      "\n",
      "\u001b[0m"
     ]
    },
    {
     "data": {
      "application/vnd.jupyter.widget-view+json": {
       "model_id": "f80eff4f1484468f9200b5cea75b900b",
       "version_major": 2,
       "version_minor": 0
      },
      "text/plain": [
       "Batches:   0%|          | 0/1 [00:00<?, ?it/s]"
      ]
     },
     "metadata": {},
     "output_type": "display_data"
    },
    {
     "name": "stdout",
     "output_type": "stream",
     "text": [
      "\u001b[36;1m\u001b[1;3m{'documents': [[\"Sitting Bull (Penguin Young Readers, Level 3) - Known as Slow when he was little, Native American Sitting Bull becomes one of the greatest chiefs ever known, in an easy-to-read biography that recounts his adventures from the battle of Little Big Horn to Buffalo Bill's Wild West Show. Simultaneous. -  Juvenile Fiction , Historical , United States , General\"]], 'metadatas': [[{'Authors': 'By Penner, Lucille Recht and Williams, Will (ILT)', 'Category': ' Juvenile Fiction , Historical , United States , General', 'Publish Date': 'Sunday, October 1, 1995', 'Title': 'Sitting Bull (Penguin Young Readers, Level 3)', 'added_on': '2024-11-06T11:35:57.465343'}]], 'distances': [[0.4606165289878845]]}\u001b[0m\u001b[32;1m\u001b[1;3mI couldn't find specific information on a title called \"The White Bull.\" However, there's a compelling children's biography titled \"Sitting Bull,\" which elaborates on significant elements of his life as a Native American leader and a strong figure in history. This engaging tale provides insights into his adventures and contributions to both his people and American history, capturing themes of bravery, leadership, and cultural heritage. If there's any specific aspect you're looking for regarding \"The White Bull,\" please let me know!\u001b[0m\n",
      "\n",
      "\u001b[1m> Finished chain.\u001b[0m\n"
     ]
    },
    {
     "data": {
      "application/vnd.jupyter.widget-view+json": {
       "model_id": "d7a26d031edf4ec797bfce7e74354a12",
       "version_major": 2,
       "version_minor": 0
      },
      "text/plain": [
       "Batches:   0%|          | 0/1 [00:00<?, ?it/s]"
      ]
     },
     "metadata": {},
     "output_type": "display_data"
    },
    {
     "data": {
      "application/vnd.jupyter.widget-view+json": {
       "model_id": "d0d18bd0227641fab8e11434e6496ecf",
       "version_major": 2,
       "version_minor": 0
      },
      "text/plain": [
       "Batches:   0%|          | 0/1 [00:00<?, ?it/s]"
      ]
     },
     "metadata": {},
     "output_type": "display_data"
    },
    {
     "name": "stdout",
     "output_type": "stream",
     "text": [
      "----------------------------------------------------------------------------------------------------\n",
      "Progress: 10/10 | Query: The Wheel of Darkness (Pendergast)\n",
      "----------------------------------------------------------------------------------------------------\n",
      "\n",
      "\n",
      "\u001b[1m> Entering new AgentExecutor chain...\u001b[0m\n",
      "\u001b[32;1m\u001b[1;3m\n",
      "Invoking: `search_database_for_book_information` with `{'query_text': 'The Wheel of Darkness Pendergast'}`\n",
      "\n",
      "\n",
      "\u001b[0m"
     ]
    },
    {
     "data": {
      "application/vnd.jupyter.widget-view+json": {
       "model_id": "cb2f496765114830a92f6725bc5f8b15",
       "version_major": 2,
       "version_minor": 0
      },
      "text/plain": [
       "Batches:   0%|          | 0/1 [00:00<?, ?it/s]"
      ]
     },
     "metadata": {},
     "output_type": "display_data"
    },
    {
     "name": "stdout",
     "output_type": "stream",
     "text": [
      "\u001b[36;1m\u001b[1;3m{'documents': [['The Wheel of Darkness (Agent Pendergast series, 8) - Taking Constance on an international tour to expose her to a world she has never experienced, FBI agent Pendergast visits the Tibetan monastery where he received martial arts training, only to learn that a rare and dangerous artifact has been stolen, following a trail that leads him aboard a treacherous Atlantic cruise. Reprint. -  Fiction , Thrillers , General', \"The Wheel of Darkness (Pendergast) - FBI Special Agent Pendergast is taking a break from work to take Constance on a whirlwind Grand Tour, hoping to give her closure and a sense of the world that she's missed.  They head to Tibet, where Pendergast intensively trained in martial arts and spiritual studies. At a remote monastery, they learn that a rare and dangerous artifact the monks have been guarding for generations has been mysteriously stolen.  As a favor, Pendergast agrees to track and recover the relic.  A twisting trail of bloodshed leads Pendergast and Constance to the maiden voyage of the Britannia, the world's largest and most luxurious ocean liner---and to an Atlantic crossing fraught with terror. -  Fiction , Thrillers , General\"]], 'metadatas': [[{'Authors': 'By Child, Lincoln and Preston, Douglas', 'Category': ' Fiction , Thrillers , General', 'Publish Date': 'Tuesday, July 1, 2008', 'Title': 'The Wheel of Darkness (Agent Pendergast series, 8)', 'added_on': '2024-11-06T11:21:56.406035'}, {'Authors': 'By Child, Lincoln and Preston, Douglas', 'Category': ' Fiction , Thrillers , General', 'Publish Date': 'Wednesday, August 1, 2007', 'Title': 'The Wheel of Darkness (Pendergast)', 'added_on': '2024-11-06T11:20:42.832226'}]], 'distances': [[0.2589442729949951, 0.2781355381011963]]}\u001b[0m\u001b[32;1m\u001b[1;3m\"The Wheel of Darkness,\" co-written by Lincoln Child and Douglas Preston, is part of the thrilling Agent Pendergast series. In this installment, FBI Agent Pendergast takes his ward Constance on a Grand Tour, ultimately leading them to a Tibetan monastery to confront the theft of a dangerous artifact. Their adventure culminates during the maiden voyage of the ocean liner Britannia, where they face terrifying confrontations and unravel chilling mysteries. The book focuses on themes of courage, loyalty, and the interplay between ancient traditions and modern threat—an exhilarating journey fans delight in.\u001b[0m\n",
      "\n",
      "\u001b[1m> Finished chain.\u001b[0m\n"
     ]
    },
    {
     "data": {
      "application/vnd.jupyter.widget-view+json": {
       "model_id": "66f616e178bc49449e9db902266997b1",
       "version_major": 2,
       "version_minor": 0
      },
      "text/plain": [
       "Batches:   0%|          | 0/1 [00:00<?, ?it/s]"
      ]
     },
     "metadata": {},
     "output_type": "display_data"
    },
    {
     "data": {
      "application/vnd.jupyter.widget-view+json": {
       "model_id": "63bab431f91341488a0aa27ed086aa1f",
       "version_major": 2,
       "version_minor": 0
      },
      "text/plain": [
       "Batches:   0%|          | 0/1 [00:00<?, ?it/s]"
      ]
     },
     "metadata": {},
     "output_type": "display_data"
    }
   ],
   "source": [
    "# run the evaluation\n",
    "run_evaluation(queries, title)"
   ]
  }
 ],
 "metadata": {
  "kernelspec": {
   "display_name": "ironhack",
   "language": "python",
   "name": "python3"
  },
  "language_info": {
   "codemirror_mode": {
    "name": "ipython",
    "version": 3
   },
   "file_extension": ".py",
   "mimetype": "text/x-python",
   "name": "python",
   "nbconvert_exporter": "python",
   "pygments_lexer": "ipython3",
   "version": "3.12.7"
  }
 },
 "nbformat": 4,
 "nbformat_minor": 2
}
