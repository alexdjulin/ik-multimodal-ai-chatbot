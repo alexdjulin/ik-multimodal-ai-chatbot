{
 "cells": [
  {
   "cell_type": "markdown",
   "metadata": {},
   "source": [
    "# Agent Evaluation\n",
    "In this notebook we evaluate our Agent using using Giskard\n",
    "\n",
    "[Colab Notebook](https://colab.research.google.com/github/giskard-ai/giskard/blob/main/docs/getting_started/quickstart/quickstart_llm.ipynb)"
   ]
  },
  {
   "cell_type": "markdown",
   "metadata": {},
   "source": [
    "## Installs and imports"
   ]
  },
  {
   "cell_type": "code",
   "execution_count": 1,
   "metadata": {},
   "outputs": [],
   "source": [
    "# %pip install \"giskard[llm]\" --upgrade\n",
    "# %pip install langchain langchain-openai langchain-community pypdf faiss-cpu openai tiktoken"
   ]
  },
  {
   "cell_type": "code",
   "execution_count": 2,
   "metadata": {},
   "outputs": [
    {
     "name": "stdout",
     "output_type": "stream",
     "text": [
      "OPENAI_API_KEY is set\n"
     ]
    }
   ],
   "source": [
    "# load env vars\n",
    "import os\n",
    "from dotenv import load_dotenv, find_dotenv\n",
    "load_dotenv(find_dotenv())\n",
    "\n",
    "if os.environ.get('OPENAI_API_KEY', ''):\n",
    "    print('OPENAI_API_KEY is set')"
   ]
  },
  {
   "cell_type": "markdown",
   "metadata": {},
   "source": [
    "## Get our langchain model\n",
    "Let's create an instance of our langchain model that will be used in the project"
   ]
  },
  {
   "cell_type": "code",
   "execution_count": 3,
   "metadata": {},
   "outputs": [
    {
     "name": "stderr",
     "output_type": "stream",
     "text": [
      "c:\\Users\\Nath\\anaconda3\\envs\\ironhack\\Lib\\site-packages\\sentence_transformers\\cross_encoder\\CrossEncoder.py:13: TqdmExperimentalWarning: Using `tqdm.autonotebook.tqdm` in notebook mode. Use `tqdm.tqdm` instead to force console mode (e.g. in jupyter console)\n",
      "  from tqdm.autonotebook import tqdm, trange\n",
      "c:\\Development\\_repos\\Ironhack\\Projects\\ik-multimodal-ai-librarian\\models.py:94: LangChainDeprecationWarning: Please see the migration guide at: https://python.langchain.com/docs/versions/migrating_memory/\n",
      "  memory = ConversationBufferWindowMemory(\n"
     ]
    },
    {
     "name": "stdout",
     "output_type": "stream",
     "text": [
      "\n",
      "\n",
      "\u001b[1m> Entering new AgentExecutor chain...\u001b[0m\n",
      "\u001b[32;1m\u001b[1;3m\n",
      "Invoking: `search_database_for_book_information` with `{'query_text': 'The Three Musketeers'}`\n",
      "\n",
      "\n",
      "\u001b[0m"
     ]
    },
    {
     "data": {
      "application/vnd.jupyter.widget-view+json": {
       "model_id": "33befdaf63e74eadb867fb14d994387e",
       "version_major": 2,
       "version_minor": 0
      },
      "text/plain": [
       "Batches:   0%|          | 0/1 [00:00<?, ?it/s]"
      ]
     },
     "metadata": {},
     "output_type": "display_data"
    },
    {
     "name": "stdout",
     "output_type": "stream",
     "text": [
      "\u001b[36;1m\u001b[1;3m{'documents': [[\"The Three Musketeers (A Stepping Stone Book(TM)) - In seventeenth-century France, young D'Artagnan befriends three musketeers, Athos, Porthos, and Aramis, and joins them in trying to outwit the enemies of the king and queen. Simultaneous. -  Juvenile Fiction , Action & Adventure , General\", 'Classic Starts®: The Three Musketeers (Classic Starts® Series) - All for one and one for all! That’s the rallying cry of the Musketeers—guards of the French King—and the call to adventure for young readers enjoying their first taste of Dumas’ classic swashbuckler. Aramis, Athos, Porthos, and the not-quite-yet Musketeer D’Artagnan use their wits and their swords to battle an evil Cardinal, the traitorous Milady, and other enemies of the French court. -  Juvenile Fiction , Classics', \"The Three Musketeers - Records the heroic deeds of Athos, Porthos, Aramis, and d'Artagnan as defenders of Louis XIV -  Fiction , Classics\"]], 'metadatas': [[{'Authors': 'By Dumas, Alexandre and Felder, Deborah G.', 'Category': ' Juvenile Fiction , Action & Adventure , General', 'Publish Date': 'Monday, August 1, 1994', 'Title': 'The Three Musketeers (A Stepping Stone Book(TM))', 'added_on': '2024-11-06T11:21:50.024035'}, {'Authors': 'By Ho, Oliver and Akib, Jamel (ILT)', 'Category': ' Juvenile Fiction , Classics', 'Publish Date': 'Thursday, February 1, 2007', 'Title': 'Classic Starts®: The Three Musketeers (Classic Starts® Series)', 'added_on': '2024-11-06T11:31:56.292946'}, {'Authors': 'By Dumas, Alexandre', 'Category': ' Fiction , Classics', 'Publish Date': 'Thursday, April 1, 1982', 'Title': 'The Three Musketeers', 'added_on': '2024-11-06T11:27:18.830736'}]], 'distances': [[0.2793179154396057, 0.32616978883743286, 0.39366310834884644]]}\u001b[0m\u001b[32;1m\u001b[1;3m\"The Three Musketeers,\" written by Alexandre Dumas, is a captivating tale set in seventeenth-century France. It follows young d'Artagnan as he finds camaraderie with the three formidable musketeers – Athos, Porthos, and Aramis. Together, they embark on thrilling adventures, battling treachery and conducting themselves with the spirited motto, \"All for one and one for all!\" This narrative not only highlights themes of friendship and loyalty but also immerses you in the political intrigue of the French court.\u001b[0m\n",
      "\n",
      "\u001b[1m> Finished chain.\u001b[0m\n"
     ]
    },
    {
     "data": {
      "text/plain": [
       "'\"The Three Musketeers,\" written by Alexandre Dumas, is a captivating tale set in seventeenth-century France. It follows young d\\'Artagnan as he finds camaraderie with the three formidable musketeers – Athos, Porthos, and Aramis. Together, they embark on thrilling adventures, battling treachery and conducting themselves with the spirited motto, \"All for one and one for all!\" This narrative not only highlights themes of friendship and loyalty but also immerses you in the political intrigue of the French court.'"
      ]
     },
     "execution_count": 3,
     "metadata": {},
     "output_type": "execute_result"
    }
   ],
   "source": [
    "# create an agent\n",
    "from ai_librarian import AiLibrarian\n",
    "avatar = AiLibrarian()\n",
    "avatar.create_worker_agent()\n",
    "\n",
    "# test the agent\n",
    "avatar.generate_model_answer('Tell me about The Three Musketeers')\n"
   ]
  },
  {
   "cell_type": "markdown",
   "metadata": {},
   "source": [
    "## Create Evaluator"
   ]
  },
  {
   "cell_type": "code",
   "execution_count": 10,
   "metadata": {},
   "outputs": [],
   "source": [
    "from langchain_openai import ChatOpenAI\n",
    "from langchain.docstore.document import Document\n",
    "from langchain_core.prompts import ChatPromptTemplate\n",
    "from langchain.chains.combine_documents import create_stuff_documents_chain"
   ]
  },
  {
   "cell_type": "markdown",
   "metadata": {},
   "source": [
    "### Answer Score\n",
    "Let's rate the answer of our model compared to the user query\n"
   ]
  },
  {
   "cell_type": "code",
   "execution_count": null,
   "metadata": {},
   "outputs": [
    {
     "name": "stdout",
     "output_type": "stream",
     "text": [
      "\n",
      "\n",
      "\u001b[1m> Entering new AgentExecutor chain...\u001b[0m\n",
      "\u001b[32;1m\u001b[1;3m\n",
      "Invoking: `search_database_for_book_information` with `{'query_text': 'The Three Musketeers'}`\n",
      "\n",
      "\n",
      "\u001b[0m"
     ]
    },
    {
     "data": {
      "application/vnd.jupyter.widget-view+json": {
       "model_id": "08ec85d427d54c828f5de370878fbc3a",
       "version_major": 2,
       "version_minor": 0
      },
      "text/plain": [
       "Batches:   0%|          | 0/1 [00:00<?, ?it/s]"
      ]
     },
     "metadata": {},
     "output_type": "display_data"
    },
    {
     "name": "stdout",
     "output_type": "stream",
     "text": [
      "\u001b[36;1m\u001b[1;3m{'documents': [[\"The Three Musketeers (A Stepping Stone Book(TM)) - In seventeenth-century France, young D'Artagnan befriends three musketeers, Athos, Porthos, and Aramis, and joins them in trying to outwit the enemies of the king and queen. Simultaneous. -  Juvenile Fiction , Action & Adventure , General\", 'Classic Starts®: The Three Musketeers (Classic Starts® Series) - All for one and one for all! That’s the rallying cry of the Musketeers—guards of the French King—and the call to adventure for young readers enjoying their first taste of Dumas’ classic swashbuckler. Aramis, Athos, Porthos, and the not-quite-yet Musketeer D’Artagnan use their wits and their swords to battle an evil Cardinal, the traitorous Milady, and other enemies of the French court. -  Juvenile Fiction , Classics', \"The Three Musketeers - Records the heroic deeds of Athos, Porthos, Aramis, and d'Artagnan as defenders of Louis XIV -  Fiction , Classics\"]], 'metadatas': [[{'Authors': 'By Dumas, Alexandre and Felder, Deborah G.', 'Category': ' Juvenile Fiction , Action & Adventure , General', 'Publish Date': 'Monday, August 1, 1994', 'Title': 'The Three Musketeers (A Stepping Stone Book(TM))', 'added_on': '2024-11-06T11:21:50.024035'}, {'Authors': 'By Ho, Oliver and Akib, Jamel (ILT)', 'Category': ' Juvenile Fiction , Classics', 'Publish Date': 'Thursday, February 1, 2007', 'Title': 'Classic Starts®: The Three Musketeers (Classic Starts® Series)', 'added_on': '2024-11-06T11:31:56.292946'}, {'Authors': 'By Dumas, Alexandre', 'Category': ' Fiction , Classics', 'Publish Date': 'Thursday, April 1, 1982', 'Title': 'The Three Musketeers', 'added_on': '2024-11-06T11:27:18.830736'}]], 'distances': [[0.2793179154396057, 0.32616978883743286, 0.39366310834884644]]}\u001b[0m\u001b[32;1m\u001b[1;3m\"The Three Musketeers,\" by Alexandre Dumas, is set in 17th-century France and follows the adventures of the young D'Artagnan who aspires to become a musketeer. He soon befriends the seasoned musketeers, Athos, Porthos, and Aramis, as they embark on numerous daring exploits. They team up to protect the honor of the king and queen while thwarting the treacherous machinations of their enemies, including the conniving Cardinal Richelieu. Themes of loyalty, friendship, and bravery weave throughout this exhilarating tale that champions the famed motto, \"All for one and one for all!\"\u001b[0m\n",
      "\n",
      "\u001b[1m> Finished chain.\u001b[0m\n",
      "SANITY CHECK: 5\n",
      "SANITY CHECK: 1\n"
     ]
    }
   ],
   "source": [
    "def answer_score(query: str, context: str) -> bool:\n",
    "    \n",
    "    prompt_text = \"\"\"\n",
    "    You are an evaluator for a conversational AI system. The user asked:\n",
    "    \"{query}\"\n",
    "    \n",
    "    The AI responded with:\n",
    "    \"{context}\"\n",
    "    \n",
    "    Please grade on a scale from 0 to 5 if the response is \n",
    "    - Relevant to the question and answers the question\n",
    "    - A sensible, non-recursive, and complete answer\n",
    "    - Grammatically correct\n",
    "    - Engaging and informative\n",
    "    - Free of factual errors\n",
    "    - Free of offensive content\n",
    "\n",
    "    Answer with a single integer from 0 to 5, 0 being the worst and 5 being the best score.\n",
    "    \"\"\"\n",
    "\n",
    "    prompt = ChatPromptTemplate.from_messages(\n",
    "        [(\"system\", prompt_text),]\n",
    "    )\n",
    "\n",
    "    llm = ChatOpenAI(\n",
    "        temperature=0,\n",
    "        model_name='gpt-4o-mini',\n",
    "        api_key=os.getenv(\"OPENAI_API_KEY\")\n",
    "    )\n",
    "\n",
    "    chain = create_stuff_documents_chain(llm, prompt)\n",
    "    document = Document(page_content=context)\n",
    "    return chain.invoke({\"context\": [document], \"query\": query})\n",
    "\n",
    "query = 'Tell me about The Three Musketeers'\n",
    "context = avatar.generate_model_answer(query)\n",
    "print('ANSWER SCORE:', answer_score(query, context))\n",
    "\n",
    "context = 'The three musketeers is a cartoon with dogs for children'\n",
    "print('ANSWER SCORE:', answer_score(query, context))"
   ]
  },
  {
   "cell_type": "markdown",
   "metadata": {},
   "source": [
    "### Sanity Check\n",
    "A sanity check is a simple check to ensure that the agent’s response is not nonsensical, empty, or wildly irrelevant. For instance, a response should not be blank, too short, or completely unrelated."
   ]
  },
  {
   "cell_type": "code",
   "execution_count": 16,
   "metadata": {},
   "outputs": [
    {
     "name": "stdout",
     "output_type": "stream",
     "text": [
      "\n",
      "\n",
      "\u001b[1m> Entering new AgentExecutor chain...\u001b[0m\n",
      "\u001b[32;1m\u001b[1;3mIn \"The Three Musketeers,\" written by Alexandre Dumas, we follow the spirited journey of d’Artagnan, a young man eager to become a musketeer in the royal guards. Rallying alongside the iconic trio—Athos, Porthos, and Aramis—They are soon entangled in intrigues, facing the cunning Milady and navigating the complex political landscape of 17th-century France. Rich in themes of loyalty, bravery, and friendship, the story celebrates the unbreakable bonds between comrades, illuminating both exhilarating adventures and deep-seated motives of honor in their quest for justice. There's something timeless about the story's capacity to evoke excitement and camaraderie that continues to resonate with readers today.\u001b[0m\n",
      "\n",
      "\u001b[1m> Finished chain.\u001b[0m\n",
      "SANITY CHECK: True\n",
      "SANITY CHECK: False\n"
     ]
    }
   ],
   "source": [
    "def sanity_check(query: str, context: str) -> bool:\n",
    "    \n",
    "    prompt_text = \"\"\"\n",
    "    You are an evaluator for a conversational AI system. The user asked:\n",
    "    \"{query}\"\n",
    "    \n",
    "    The AI responded with:\n",
    "    \"{context}\"\n",
    "    \n",
    "    Please determine if the response is:\n",
    "    - Relevant to the question\n",
    "    - A sensible, non-recursive, and complete answer\n",
    "\n",
    "    Answer with only \"True\" if it passes the sanity check and \"False\" if it does not.\n",
    "    \"\"\"\n",
    "\n",
    "    prompt = ChatPromptTemplate.from_messages(\n",
    "        [(\"system\", prompt_text),]\n",
    "    )\n",
    "\n",
    "    llm = ChatOpenAI(\n",
    "        temperature=0,\n",
    "        model_name='gpt-4o-mini',\n",
    "        api_key=os.getenv(\"OPENAI_API_KEY\")\n",
    "    )\n",
    "\n",
    "    chain = create_stuff_documents_chain(llm, prompt)\n",
    "    document = Document(page_content=context)\n",
    "    return chain.invoke({\"context\": [document], \"query\": query})\n",
    "\n",
    "query = 'Tell me about The Three Musketeers'\n",
    "context = avatar.generate_model_answer(query)\n",
    "print('SANITY CHECK:', sanity_check(query, context))\n",
    "\n",
    "context = 'The three musketeers is a cartoon with dogs for children'\n",
    "print('SANITY CHECK:', sanity_check(query, context))"
   ]
  },
  {
   "cell_type": "markdown",
   "metadata": {},
   "source": [
    "### Response Time\n",
    "Let's create a method to calculate the response time"
   ]
  },
  {
   "cell_type": "code",
   "execution_count": null,
   "metadata": {},
   "outputs": [
    {
     "name": "stdout",
     "output_type": "stream",
     "text": [
      "\n",
      "\n",
      "\u001b[1m> Entering new AgentExecutor chain...\u001b[0m\n",
      "\u001b[32;1m\u001b[1;3m\n",
      "Invoking: `search_database_for_book_information` with `{'query_text': 'The Three Musketeers'}`\n",
      "\n",
      "\n",
      "\u001b[0m"
     ]
    },
    {
     "data": {
      "application/vnd.jupyter.widget-view+json": {
       "model_id": "bc044dae6ed247ddb200c89d63aa70c0",
       "version_major": 2,
       "version_minor": 0
      },
      "text/plain": [
       "Batches:   0%|          | 0/1 [00:00<?, ?it/s]"
      ]
     },
     "metadata": {},
     "output_type": "display_data"
    },
    {
     "name": "stdout",
     "output_type": "stream",
     "text": [
      "\u001b[36;1m\u001b[1;3m{'documents': [[\"The Three Musketeers (A Stepping Stone Book(TM)) - In seventeenth-century France, young D'Artagnan befriends three musketeers, Athos, Porthos, and Aramis, and joins them in trying to outwit the enemies of the king and queen. Simultaneous. -  Juvenile Fiction , Action & Adventure , General\", 'Classic Starts®: The Three Musketeers (Classic Starts® Series) - All for one and one for all! That’s the rallying cry of the Musketeers—guards of the French King—and the call to adventure for young readers enjoying their first taste of Dumas’ classic swashbuckler. Aramis, Athos, Porthos, and the not-quite-yet Musketeer D’Artagnan use their wits and their swords to battle an evil Cardinal, the traitorous Milady, and other enemies of the French court. -  Juvenile Fiction , Classics', \"The Three Musketeers - Records the heroic deeds of Athos, Porthos, Aramis, and d'Artagnan as defenders of Louis XIV -  Fiction , Classics\"]], 'metadatas': [[{'Authors': 'By Dumas, Alexandre and Felder, Deborah G.', 'Category': ' Juvenile Fiction , Action & Adventure , General', 'Publish Date': 'Monday, August 1, 1994', 'Title': 'The Three Musketeers (A Stepping Stone Book(TM))', 'added_on': '2024-11-06T11:21:50.024035'}, {'Authors': 'By Ho, Oliver and Akib, Jamel (ILT)', 'Category': ' Juvenile Fiction , Classics', 'Publish Date': 'Thursday, February 1, 2007', 'Title': 'Classic Starts®: The Three Musketeers (Classic Starts® Series)', 'added_on': '2024-11-06T11:31:56.292946'}, {'Authors': 'By Dumas, Alexandre', 'Category': ' Fiction , Classics', 'Publish Date': 'Thursday, April 1, 1982', 'Title': 'The Three Musketeers', 'added_on': '2024-11-06T11:27:18.830736'}]], 'distances': [[0.2793179154396057, 0.32616978883743286, 0.39366310834884644]]}\u001b[0m\u001b[32;1m\u001b[1;3m\"The Three Musketeers,\" penned by Alexandre Dumas, takes readers on an exhilarating adventure set in 17th-century France. It follows the youthful d’Artagnan, who aims to become a musketeer and befriends the celebrated trio: Athos, Porthos, and Aramis. Faced with court intrigues involving schemes by Cardinal Richelieu and the treacherous Milady, the musketeers exemplify bravery and loyalty while rallying around their famous motto, \"All for one, and one for all!\". This timeless classic weaves themes of friendship, honor, and the endless quest for justice that resonates with readers across generations, bringing part of France's heroic past to life.\u001b[0m\n",
      "\n",
      "\u001b[1m> Finished chain.\u001b[0m\n",
      "\"The Three Musketeers,\" penned by Alexandre Dumas, takes readers on an exhilarating adventure set in 17th-century France. It follows the youthful d’Artagnan, who aims to become a musketeer and befriends the celebrated trio: Athos, Porthos, and Aramis. Faced with court intrigues involving schemes by Cardinal Richelieu and the treacherous Milady, the musketeers exemplify bravery and loyalty while rallying around their famous motto, \"All for one, and one for all!\". This timeless classic weaves themes of friendship, honor, and the endless quest for justice that resonates with readers across generations, bringing part of France's heroic past to life.\n",
      "Response time: 6.188793897628784 seconds\n"
     ]
    }
   ],
   "source": [
    "import time\n",
    "\n",
    "def generate_model_answer_timed(query: str) -> tuple[str, float]:\n",
    "    start = time.time()\n",
    "    answer = avatar.generate_model_answer(query)\n",
    "    end = time.time()\n",
    "    time_diff = end - start\n",
    "    return answer, time_diff\n",
    "\n",
    "query = 'Tell me about the Three Musketeers'\n",
    "answer, gen_time = generate_model_answer_timed(query)\n",
    "print(answer)\n",
    "print(f\"Response time: {gen_time} seconds\")"
   ]
  },
  {
   "cell_type": "markdown",
   "metadata": {},
   "source": [
    "### Evaluate Readability\n",
    "The Flesch Reading Ease score is a popular readability test used to evaluate how easy a text is to read. It’s particularly useful in ensuring your chatbot's responses are clear and accessible to your target audience.\n",
    "\n",
    "Score Interpretation\n",
    "The Flesch Reading Ease Score ranges from 0 to 100, with higher scores indicating easier readability. Here’s a breakdown:\n",
    "\n",
    "Score Range\tDescription\tReadability Level  \n",
    "90 - 100\tVery Easy\t5th grade  \n",
    "80 - 89\tEasy\t6th grade  \n",
    "70 - 79\tFairly Easy\t7th grade  \n",
    "60 - 69\tStandard\t8th-9th grade  \n",
    "50 - 59\tFairly Difficult\tHigh school  \n",
    "30 - 49\tDifficult\tCollege  \n",
    "0 - 29\tVery Confusing\tCollege graduate and above  \n"
   ]
  },
  {
   "cell_type": "code",
   "execution_count": null,
   "metadata": {},
   "outputs": [
    {
     "name": "stdout",
     "output_type": "stream",
     "text": [
      "\n",
      "\n",
      "\u001b[1m> Entering new AgentExecutor chain...\u001b[0m\n",
      "\u001b[32;1m\u001b[1;3m\"The Three Musketeers,\" a novel by Alexandre Dumas, transports readers to a bustling France during the 17th century and revolves around the determined young d’Artagnan, who dreams of becoming a musketeer. His journey intertwines with the clever and loyal trio—Athos, Porthos, and Aramis—who embrace a philosophy encapsulated in the phrase \"All for one, and one for all!\" The story explores themes of friendship, honor, and intrigue, showcasing d'Artagnan's missions as he navigates plots against King Louis XIII, faced with characters like Cardinal Richelieu and the cunning Milady de Winter. This dynamic and vivid adventure continues to resonate with those who crave tales of camaraderie and heroism.\u001b[0m\n",
      "\n",
      "\u001b[1m> Finished chain.\u001b[0m\n",
      "Readability score: 44.58\n"
     ]
    }
   ],
   "source": [
    "from textstat import flesch_reading_ease\n",
    "\n",
    "def readability_score(response: str) -> float:\n",
    "    # Higher scores indicate easier readability\n",
    "    return flesch_reading_ease(response)\n",
    "\n",
    "query = 'Tell me about the Three Musketeers'\n",
    "answer = avatar.generate_model_answer(query)\n",
    "score = readability_score(answer)\n",
    "print(f\"Readability score: {score}\")"
   ]
  },
  {
   "cell_type": "markdown",
   "metadata": {},
   "source": [
    "### Response length\n",
    "Let's see how long an answer is in terms of characters, words and tokens"
   ]
  },
  {
   "cell_type": "code",
   "execution_count": null,
   "metadata": {},
   "outputs": [
    {
     "name": "stdout",
     "output_type": "stream",
     "text": [
      "\n",
      "\n",
      "\u001b[1m> Entering new AgentExecutor chain...\u001b[0m\n",
      "\u001b[32;1m\u001b[1;3m\n",
      "Invoking: `search_database_for_book_information` with `{'query_text': 'The Three Musketeers'}`\n",
      "\n",
      "\n",
      "\u001b[0m"
     ]
    },
    {
     "data": {
      "application/vnd.jupyter.widget-view+json": {
       "model_id": "6d1924f29fb04c8496e4b055d549a413",
       "version_major": 2,
       "version_minor": 0
      },
      "text/plain": [
       "Batches:   0%|          | 0/1 [00:00<?, ?it/s]"
      ]
     },
     "metadata": {},
     "output_type": "display_data"
    },
    {
     "name": "stdout",
     "output_type": "stream",
     "text": [
      "\u001b[36;1m\u001b[1;3m{'documents': [[\"The Three Musketeers (A Stepping Stone Book(TM)) - In seventeenth-century France, young D'Artagnan befriends three musketeers, Athos, Porthos, and Aramis, and joins them in trying to outwit the enemies of the king and queen. Simultaneous. -  Juvenile Fiction , Action & Adventure , General\", 'Classic Starts®: The Three Musketeers (Classic Starts® Series) - All for one and one for all! That’s the rallying cry of the Musketeers—guards of the French King—and the call to adventure for young readers enjoying their first taste of Dumas’ classic swashbuckler. Aramis, Athos, Porthos, and the not-quite-yet Musketeer D’Artagnan use their wits and their swords to battle an evil Cardinal, the traitorous Milady, and other enemies of the French court. -  Juvenile Fiction , Classics', \"The Three Musketeers - Records the heroic deeds of Athos, Porthos, Aramis, and d'Artagnan as defenders of Louis XIV -  Fiction , Classics\"]], 'metadatas': [[{'Authors': 'By Dumas, Alexandre and Felder, Deborah G.', 'Category': ' Juvenile Fiction , Action & Adventure , General', 'Publish Date': 'Monday, August 1, 1994', 'Title': 'The Three Musketeers (A Stepping Stone Book(TM))', 'added_on': '2024-11-06T11:21:50.024035'}, {'Authors': 'By Ho, Oliver and Akib, Jamel (ILT)', 'Category': ' Juvenile Fiction , Classics', 'Publish Date': 'Thursday, February 1, 2007', 'Title': 'Classic Starts®: The Three Musketeers (Classic Starts® Series)', 'added_on': '2024-11-06T11:31:56.292946'}, {'Authors': 'By Dumas, Alexandre', 'Category': ' Fiction , Classics', 'Publish Date': 'Thursday, April 1, 1982', 'Title': 'The Three Musketeers', 'added_on': '2024-11-06T11:27:18.830736'}]], 'distances': [[0.2793179154396057, 0.32616978883743286, 0.39366310834884644]]}\u001b[0m\u001b[32;1m\u001b[1;3m\"The Three Musketeers,\" penned by Alexandre Dumas, unfolds in 17th-century France, whisking readers into the life of young d'Artagnan, who aspires to become a musketeer. He befriends Athos, Porthos, and Aramis, forming a legendary brotherhood. Together, they navigate political intrigues, show fierce loyalty, and confront daunting adversaries like the manipulative Cardinal Richelieu and the treacherous Milady de Winter, scaling adventures showcasing banded valor. The tale resonates with themes of loyalty, friendship, and bravery, echoed hauntingly alongside their rallying motto, \"All for one and one for all!\"\u001b[0m\n",
      "\n",
      "\u001b[1m> Finished chain.\u001b[0m\n",
      "Character count: 615\n",
      "Word count: 86\n",
      "Token count: 138\n"
     ]
    }
   ],
   "source": [
    "import tiktoken\n",
    "encoding = tiktoken.get_encoding(\"cl100k_base\")  # for gpt4o models\n",
    "\n",
    "def answer_length(text: str) -> int:\n",
    "    # initialise the tokenizer\n",
    "\n",
    "    characters = len(text)\n",
    "    words = len(text.split())\n",
    "    tokens = len(encoding.encode(text))\n",
    "\n",
    "    return characters, words, tokens\n",
    "\n",
    "query = 'Tell me about the Three Musketeers'\n",
    "answer = avatar.generate_model_answer(query)\n",
    "length = answer_length(answer)\n",
    "print(f\"Character count: {length[0]}\")\n",
    "print(f\"Word count: {length[1]}\")\n",
    "print(f\"Token count: {length[2]}\")"
   ]
  },
  {
   "cell_type": "markdown",
   "metadata": {},
   "source": [
    "### Lexical Overlap"
   ]
  },
  {
   "cell_type": "code",
   "execution_count": 51,
   "metadata": {},
   "outputs": [
    {
     "name": "stdout",
     "output_type": "stream",
     "text": [
      "\n",
      "\n",
      "\u001b[1m> Entering new AgentExecutor chain...\u001b[0m\n",
      "\u001b[32;1m\u001b[1;3m\"The Three Musketeers,\" written by Alexandre Dumas, tells the story of the young and passionate d'Artagnan who sets off to join the King’s Musketeers in France during the 17th century. He quickly befriends the titular three musketeers—Athos, Porthos, and Aramis. Together, they embark on a series of thrilling adventures, battling political intrigue and upholding their values of loyalty, honor, and friendship. The novel beautifully illustrates the tension between personal ambition and loyalty to friendship, encapsulated in its famous motto: \"All for one and one for all!\"\u001b[0m\n",
      "\n",
      "\u001b[1m> Finished chain.\u001b[0m\n"
     ]
    },
    {
     "data": {
      "application/vnd.jupyter.widget-view+json": {
       "model_id": "ebec1aedd7394b088851f44dc1021df4",
       "version_major": 2,
       "version_minor": 0
      },
      "text/plain": [
       "Batches:   0%|          | 0/1 [00:00<?, ?it/s]"
      ]
     },
     "metadata": {},
     "output_type": "display_data"
    },
    {
     "data": {
      "application/vnd.jupyter.widget-view+json": {
       "model_id": "591afff7d35a47f7a36fd805a06b9aa3",
       "version_major": 2,
       "version_minor": 0
      },
      "text/plain": [
       "Batches:   0%|          | 0/1 [00:00<?, ?it/s]"
      ]
     },
     "metadata": {},
     "output_type": "display_data"
    },
    {
     "name": "stdout",
     "output_type": "stream",
     "text": [
      "Semantic overlap score: 0.5107448101043701\n"
     ]
    }
   ],
   "source": [
    "from sentence_transformers import SentenceTransformer, util\n",
    "from nltk.tokenize import word_tokenize\n",
    "import numpy as np\n",
    "from nltk.corpus import stopwords\n",
    "\n",
    "# Initialize the model\n",
    "model = SentenceTransformer('all-MiniLM-L6-v2')\n",
    "\n",
    "def semantic_overlap(query: str, answer: str, stopwords: set) -> float:\n",
    "    # Tokenize and filter stop words\n",
    "    query_words = set([word for word in word_tokenize(query.lower()) if word not in stopwords])\n",
    "    answer_words = set([word for word in word_tokenize(answer.lower()) if word not in stopwords])\n",
    "    \n",
    "    # Compute embeddings\n",
    "    query_embedding = model.encode(' '.join(query_words))\n",
    "    answer_embedding = model.encode(' '.join(answer_words))\n",
    "    \n",
    "    # Calculate cosine similarity\n",
    "    similarity_score = util.cos_sim(query_embedding, answer_embedding).item()\n",
    "    \n",
    "    return similarity_score\n",
    "\n",
    "# Example usage\n",
    "stopwords_en = stopwords.words('english')\n",
    "query = 'Tell me about the Three Musketeers'\n",
    "answer = avatar.generate_model_answer(query)\n",
    "semantic_score = semantic_overlap(query, answer, stopwords_en)\n",
    "print(f\"Semantic overlap score: {semantic_score}\")\n"
   ]
  },
  {
   "cell_type": "markdown",
   "metadata": {},
   "source": [
    "### Entity Agreement\n",
    "NOT WORKING"
   ]
  },
  {
   "cell_type": "code",
   "execution_count": 74,
   "metadata": {},
   "outputs": [
    {
     "name": "stderr",
     "output_type": "stream",
     "text": [
      "[nltk_data] Downloading package maxent_ne_chunker_tab to\n",
      "[nltk_data]     C:\\Users\\Nath\\AppData\\Roaming\\nltk_data...\n",
      "[nltk_data]   Package maxent_ne_chunker_tab is already up-to-date!\n",
      "[nltk_data] Downloading package words to\n",
      "[nltk_data]     C:\\Users\\Nath\\AppData\\Roaming\\nltk_data...\n",
      "[nltk_data]   Package words is already up-to-date!\n"
     ]
    },
    {
     "name": "stdout",
     "output_type": "stream",
     "text": [
      "[('tell', 'VB'), ('me', 'PRP'), ('about', 'IN'), ('the', 'DT'), ('three', 'CD'), ('musketeers', 'NNS')]\n",
      "Extracted entities from 'tell me about the three musketeers': []\n",
      "[('the', 'DT'), ('three', 'CD'), ('musketeers', 'NNS'), ('is', 'VBZ'), ('a', 'DT'), ('novel', 'JJ'), ('by', 'IN'), ('alexandre', 'JJ'), ('dumas', 'NN'), ('.', '.')]\n",
      "Extracted entities from 'the three musketeers is a novel by alexandre dumas.': []\n",
      "Entities in query: set()\n",
      "Entities in answer: set()\n",
      "Entity Agreement Score: 0\n"
     ]
    }
   ],
   "source": [
    "import nltk\n",
    "nltk.download('maxent_ne_chunker_tab')\n",
    "nltk.download('words')\n",
    "from nltk import ne_chunk, pos_tag, word_tokenize\n",
    "\n",
    "def extract_entities(text):\n",
    "    # Extract named entities from text\n",
    "    chunks = ne_chunk(pos_tag(word_tokenize(text)))\n",
    "    print(chunks.leaves())\n",
    "    entities = [\" \".join([token for token, _ in chunk.leaves()])\n",
    "            for chunk in chunks if hasattr(chunk, 'label')]\n",
    "    print(f\"Extracted entities from '{text}': {entities}\")  # Debug output\n",
    "    return entities\n",
    "\n",
    "def entity_agreement(query, answer):\n",
    "    # Extract entities in answer and query\n",
    "    query_entities = set(extract_entities(query.lower()))\n",
    "    answer_entities = set(extract_entities(answer.lower()))\n",
    "\n",
    "    print(f\"Entities in query: {query_entities}\")  # Debug output\n",
    "    print(f\"Entities in answer: {answer_entities}\")  # Debug output\n",
    "\n",
    "    # Calculate proportion of entities in answer that are also in query\n",
    "    if not answer_entities:\n",
    "        return 0\n",
    "    return len(answer_entities.intersection(query_entities)) / len(answer_entities)\n",
    "\n",
    "# Example Usage\n",
    "query = 'Tell me about the Three Musketeers'\n",
    "answer = 'The Three Musketeers is a novel by Alexandre Dumas.'\n",
    "# answer = avatar.generate_model_answer(query)\n",
    "agreement_score = entity_agreement(query, answer)\n",
    "print(f\"Entity Agreement Score: {agreement_score}\")\n"
   ]
  }
 ],
 "metadata": {
  "kernelspec": {
   "display_name": "ironhack",
   "language": "python",
   "name": "python3"
  },
  "language_info": {
   "codemirror_mode": {
    "name": "ipython",
    "version": 3
   },
   "file_extension": ".py",
   "mimetype": "text/x-python",
   "name": "python",
   "nbconvert_exporter": "python",
   "pygments_lexer": "ipython3",
   "version": "3.12.7"
  }
 },
 "nbformat": 4,
 "nbformat_minor": 2
}
